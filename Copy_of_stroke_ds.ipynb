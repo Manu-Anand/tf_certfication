{
  "nbformat": 4,
  "nbformat_minor": 0,
  "metadata": {
    "colab": {
      "name": "Copy of stroke_ds.ipynb",
      "provenance": [],
      "collapsed_sections": [],
      "authorship_tag": "ABX9TyPEft7Vph94bmfZwUTP7iGM",
      "include_colab_link": true
    },
    "kernelspec": {
      "name": "python3",
      "display_name": "Python 3"
    }
  },
  "cells": [
    {
      "cell_type": "markdown",
      "metadata": {
        "id": "view-in-github",
        "colab_type": "text"
      },
      "source": [
        "<a href=\"https://colab.research.google.com/github/Manu-Anand/tf_certfication/blob/master/Copy_of_stroke_ds.ipynb\" target=\"_parent\"><img src=\"https://colab.research.google.com/assets/colab-badge.svg\" alt=\"Open In Colab\"/></a>"
      ]
    },
    {
      "cell_type": "code",
      "metadata": {
        "id": "VxeVUZ9iYNac",
        "colab_type": "code",
        "colab": {}
      },
      "source": [
        "#from google.colab import files\n",
        "#uploaded = files.upload()"
      ],
      "execution_count": 0,
      "outputs": []
    },
    {
      "cell_type": "code",
      "metadata": {
        "id": "W0qsgxMiZQ0b",
        "colab_type": "code",
        "colab": {}
      },
      "source": [
        "#imports\n",
        "import pandas as pd\n",
        "import matplotlib.pyplot as plt\n",
        "import seaborn as sns\n",
        "import folium\n",
        "import plotly.express as px\n",
        "import plotly.graph_objects as go\n",
        "import numpy as np\n",
        "import math \n",
        "from matplotlib import rcParams\n",
        "from matplotlib.cm import rainbow\n",
        "from sklearn.preprocessing import LabelEncoder"
      ],
      "execution_count": 0,
      "outputs": []
    },
    {
      "cell_type": "code",
      "metadata": {
        "id": "I4Eq2ZzIqn3T",
        "colab_type": "code",
        "colab": {}
      },
      "source": [
        "def label_encoding(cat_variable):\n",
        "  le = LabelEncoder()\n",
        "  label_field = le.fit_transform(train_data[cat_variable])\n",
        "  genre_mappings = {index: label for index, label in \n",
        "                    enumerate(le.classes_)}\n",
        "  genre_mappings\n",
        "  train_data[cat_variable] = label_field"
      ],
      "execution_count": 0,
      "outputs": []
    },
    {
      "cell_type": "markdown",
      "metadata": {
        "id": "Zs_GNtBGdbtc",
        "colab_type": "text"
      },
      "source": [
        "Please keep the train_2v.csv in the same folder as the python file"
      ]
    },
    {
      "cell_type": "code",
      "metadata": {
        "id": "lYOmNlO0dSN3",
        "colab_type": "code",
        "outputId": "44f0e4f9-708a-42e8-ac96-07dbd0dda8ad",
        "colab": {
          "base_uri": "https://localhost:8080/",
          "height": 131
        }
      },
      "source": [
        "train_data = pd.read_csv('train_2v.csv')\n",
        "# Smoking status got many Nan Values. So Drops them. Recheck other alternatives\n",
        "train_data = train_data[train_data['smoking_status'].notna()]\n",
        "label_encoding(\"work_type\")\n",
        "label_encoding(\"Residence_type\")\n",
        "label_encoding(\"ever_married\")\n",
        "label_encoding(\"gender\")\n",
        "label_encoding(\"smoking_status\")\n",
        "train_data.head(2)"
      ],
      "execution_count": 0,
      "outputs": [
        {
          "output_type": "execute_result",
          "data": {
            "text/html": [
              "<div>\n",
              "<style scoped>\n",
              "    .dataframe tbody tr th:only-of-type {\n",
              "        vertical-align: middle;\n",
              "    }\n",
              "\n",
              "    .dataframe tbody tr th {\n",
              "        vertical-align: top;\n",
              "    }\n",
              "\n",
              "    .dataframe thead th {\n",
              "        text-align: right;\n",
              "    }\n",
              "</style>\n",
              "<table border=\"1\" class=\"dataframe\">\n",
              "  <thead>\n",
              "    <tr style=\"text-align: right;\">\n",
              "      <th></th>\n",
              "      <th>id</th>\n",
              "      <th>gender</th>\n",
              "      <th>age</th>\n",
              "      <th>hypertension</th>\n",
              "      <th>heart_disease</th>\n",
              "      <th>ever_married</th>\n",
              "      <th>work_type</th>\n",
              "      <th>Residence_type</th>\n",
              "      <th>avg_glucose_level</th>\n",
              "      <th>bmi</th>\n",
              "      <th>smoking_status</th>\n",
              "      <th>stroke</th>\n",
              "    </tr>\n",
              "  </thead>\n",
              "  <tbody>\n",
              "    <tr>\n",
              "      <th>1</th>\n",
              "      <td>30468</td>\n",
              "      <td>1</td>\n",
              "      <td>58.0</td>\n",
              "      <td>1</td>\n",
              "      <td>0</td>\n",
              "      <td>1</td>\n",
              "      <td>2</td>\n",
              "      <td>1</td>\n",
              "      <td>87.96</td>\n",
              "      <td>39.2</td>\n",
              "      <td>1</td>\n",
              "      <td>0</td>\n",
              "    </tr>\n",
              "    <tr>\n",
              "      <th>3</th>\n",
              "      <td>56543</td>\n",
              "      <td>0</td>\n",
              "      <td>70.0</td>\n",
              "      <td>0</td>\n",
              "      <td>0</td>\n",
              "      <td>1</td>\n",
              "      <td>2</td>\n",
              "      <td>0</td>\n",
              "      <td>69.04</td>\n",
              "      <td>35.9</td>\n",
              "      <td>0</td>\n",
              "      <td>0</td>\n",
              "    </tr>\n",
              "  </tbody>\n",
              "</table>\n",
              "</div>"
            ],
            "text/plain": [
              "      id  gender   age  ...   bmi  smoking_status  stroke\n",
              "1  30468       1  58.0  ...  39.2               1       0\n",
              "3  56543       0  70.0  ...  35.9               0       0\n",
              "\n",
              "[2 rows x 12 columns]"
            ]
          },
          "metadata": {
            "tags": []
          },
          "execution_count": 68
        }
      ]
    },
    {
      "cell_type": "code",
      "metadata": {
        "id": "kjRq6utqm41M",
        "colab_type": "code",
        "outputId": "d05cfcf1-2454-4967-cf04-a78a19e015ff",
        "colab": {
          "base_uri": "https://localhost:8080/",
          "height": 255
        }
      },
      "source": [
        "train_data.describe(include = 'all')\n",
        "# The below code shows there are many null values\n",
        "print('Train columns with null values:\\n', train_data.isnull().sum())"
      ],
      "execution_count": 0,
      "outputs": [
        {
          "output_type": "stream",
          "text": [
            "Train columns with null values:\n",
            " id                      0\n",
            "gender                  0\n",
            "age                     0\n",
            "hypertension            0\n",
            "heart_disease           0\n",
            "ever_married            0\n",
            "work_type               0\n",
            "Residence_type          0\n",
            "avg_glucose_level       0\n",
            "bmi                  1036\n",
            "smoking_status          0\n",
            "stroke                  0\n",
            "dtype: int64\n"
          ],
          "name": "stdout"
        }
      ]
    },
    {
      "cell_type": "code",
      "metadata": {
        "id": "4mCF6X_losGv",
        "colab_type": "code",
        "outputId": "a285dfc2-f8ad-4626-c670-f26c1097bd7f",
        "colab": {
          "base_uri": "https://localhost:8080/",
          "height": 945
        }
      },
      "source": [
        "# Displays correlation metrics\n",
        "# Inference - Age and marriage has some correlation. All other fileds shows very less correlation\n",
        "rcParams['figure.figsize'] = 20, 30\n",
        "plt.matshow(train_data.corr())\n",
        "plt.yticks(np.arange(train_data.shape[1]), train_data.columns)\n",
        "plt.xticks(np.arange(train_data.shape[1]), train_data.columns)\n",
        "plt.colorbar()"
      ],
      "execution_count": 0,
      "outputs": [
        {
          "output_type": "execute_result",
          "data": {
            "text/plain": [
              "<matplotlib.colorbar.Colorbar at 0x7f7a0cbbee10>"
            ]
          },
          "metadata": {
            "tags": []
          },
          "execution_count": 72
        },
        {
          "output_type": "display_data",
          "data": {
            "image/png": "[encoded data removed]",
            "text/plain": [
              "<Figure size 1152x1152 with 2 Axes>"
            ]
          },
          "metadata": {
            "tags": []
          }
        }
      ]
    },
    {
      "cell_type": "code",
      "metadata": {
        "id": "CyfFDPa7nA2r",
        "colab_type": "code",
        "outputId": "a14a81fd-4eed-4451-abe7-247eb72278ee",
        "colab": {
          "base_uri": "https://localhost:8080/",
          "height": 330
        }
      },
      "source": [
        "# The below code shows that  the data has class imbalance problem\n",
        "# The data is unbalanced\n",
        "class_count = train_data.stroke.value_counts()\n",
        "print('class count', class_count)\n",
        "ax = sns.countplot(x=\"stroke\", data=train_data)"
      ],
      "execution_count": 0,
      "outputs": [
        {
          "output_type": "stream",
          "text": [
            "class count 0    42617\n",
            "1      783\n",
            "Name: stroke, dtype: int64\n"
          ],
          "name": "stdout"
        },
        {
          "output_type": "display_data",
          "data": {
            "image/png": "[encoded data removed]",
            "text/plain": [
              "<Figure size 432x288 with 1 Axes>"
            ]
          },
          "metadata": {
            "tags": []
          }
        }
      ]
    },
    {
      "cell_type": "code",
      "metadata": {
        "id": "IMPTgYranEig",
        "colab_type": "code",
        "outputId": "75f52508-dbce-4af5-c0a1-f99b7544bbfd",
        "colab": {
          "base_uri": "https://localhost:8080/",
          "height": 280
        }
      },
      "source": [
        "\n",
        "ax = sns.countplot(x=\"ever_married\", data=train_data, hue=\"stroke\")"
      ],
      "execution_count": 0,
      "outputs": [
        {
          "output_type": "display_data",
          "data": {
            "image/png": "[encoded data removed]",
            "text/plain": [
              "<Figure size 432x288 with 1 Axes>"
            ]
          },
          "metadata": {
            "tags": []
          }
        }
      ]
    },
    {
      "cell_type": "code",
      "metadata": {
        "id": "o4i343xagc5l",
        "colab_type": "code",
        "outputId": "88831ca0-51b2-45c5-bbda-a08207a3dff2",
        "colab": {
          "base_uri": "https://localhost:8080/",
          "height": 523
        }
      },
      "source": [
        "reason_order = list(train_data[\"stroke\"].value_counts().index)\n",
        "\n",
        "plt.figure(figsize=(12, 8))\n",
        "sns.countplot(y = \"avg_glucose_level\",\n",
        "              data=train_data,\n",
        "              order=reason_order)\n",
        "plt.title(\"Known reasons of infection\", fontsize=16)\n",
        "plt.xlabel(\"Count\", fontsize=16)\n",
        "plt.ylabel(\"Reason of infection\", fontsize=16)\n",
        "plt.xticks(fontsize=12)\n",
        "plt.yticks(fontsize=12)\n",
        "plt.show()"
      ],
      "execution_count": 0,
      "outputs": [
        {
          "output_type": "display_data",
          "data": {
            "image/png": "[encoded data removed]",
            "text/plain": [
              "<Figure size 864x576 with 1 Axes>"
            ]
          },
          "metadata": {
            "tags": []
          }
        }
      ]
    },
    {
      "cell_type": "code",
      "metadata": {
        "id": "l0ICpBOtierO",
        "colab_type": "code",
        "colab": {}
      },
      "source": [
        "# Split the data into predictors and target\n",
        "X_train = train_data.drop(['Survived', 'Name'], axis = 1)\n",
        "X_test = test_data.drop(['Name'], axis = 1)\n",
        "y_train = train_data['Survived']"
      ],
      "execution_count": 0,
      "outputs": []
    }
  ]
}