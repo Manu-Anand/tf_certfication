{
  "nbformat": 4,
  "nbformat_minor": 0,
  "metadata": {
    "colab": {
      "name": "tf_certification_9_augmentation_issue.ipynb",
      "provenance": [],
      "collapsed_sections": [],
      "authorship_tag": "ABX9TyNn8QAOZ4eAbfKlX6Qch42O",
      "include_colab_link": true
    },
    "kernelspec": {
      "name": "python3",
      "display_name": "Python 3"
    },
    "accelerator": "GPU"
  },
  "cells": [
    {
      "cell_type": "markdown",
      "metadata": {
        "id": "view-in-github",
        "colab_type": "text"
      },
      "source": [
        "<a href=\"https://colab.research.google.com/github/Manu-Anand/tf_certfication/blob/master/tf_certification_9_augmentation_issue.ipynb\" target=\"_parent\"><img src=\"https://colab.research.google.com/assets/colab-badge.svg\" alt=\"Open In Colab\"/></a>"
      ]
    },
    {
      "cell_type": "code",
      "metadata": {
        "id": "MZB7l_TpYzQr",
        "colab_type": "code",
        "outputId": "90e90402-7774-4a2a-d660-b592e0fbc184",
        "colab": {
          "base_uri": "https://localhost:8080/",
          "height": 391
        }
      },
      "source": [
        "!wget --no-check-certificate \\\n",
        "    https://storage.googleapis.com/laurencemoroney-blog.appspot.com/horse-or-human.zip \\\n",
        "    -O /tmp/horse-or-human.zip\n",
        "\n",
        "!wget --no-check-certificate \\\n",
        "    https://storage.googleapis.com/laurencemoroney-blog.appspot.com/validation-horse-or-human.zip \\\n",
        "    -O /tmp/validation-horse-or-human.zip\n",
        "  \n",
        "import os\n",
        "import zipfile\n",
        "\n",
        "local_zip = '/tmp/horse-or-human.zip'\n",
        "zip_ref = zipfile.ZipFile(local_zip, 'r')\n",
        "zip_ref.extractall('/tmp/horse-or-human')\n",
        "local_zip = '/tmp/validation-horse-or-human.zip'\n",
        "zip_ref = zipfile.ZipFile(local_zip, 'r')\n",
        "zip_ref.extractall('/tmp/validation-horse-or-human')\n",
        "zip_ref.close()\n",
        "# Directory with our training horse pictures\n",
        "train_horse_dir = os.path.join('/tmp/horse-or-human/horses')\n",
        "\n",
        "# Directory with our training human pictures\n",
        "train_human_dir = os.path.join('/tmp/horse-or-human/humans')\n",
        "\n",
        "# Directory with our training horse pictures\n",
        "validation_horse_dir = os.path.join('/tmp/validation-horse-or-human/horses')\n",
        "\n",
        "# Directory with our training human pictures\n",
        "validation_human_dir = os.path.join('/tmp/validation-horse-or-human/humans')"
      ],
      "execution_count": 8,
      "outputs": [
        {
          "output_type": "stream",
          "text": [
            "--2020-04-19 13:34:18--  https://storage.googleapis.com/laurencemoroney-blog.appspot.com/horse-or-human.zip\n",
            "Resolving storage.googleapis.com (storage.googleapis.com)... 172.217.9.208, 2607:f8b0:4004:808::2010\n",
            "Connecting to storage.googleapis.com (storage.googleapis.com)|172.217.9.208|:443... connected.\n",
            "HTTP request sent, awaiting response... 200 OK\n",
            "Length: 149574867 (143M) [application/zip]\n",
            "Saving to: ‘/tmp/horse-or-human.zip’\n",
            "\n",
            "/tmp/horse-or-human 100%[===================>] 142.65M  60.4MB/s    in 2.4s    \n",
            "\n",
            "2020-04-19 13:34:21 (60.4 MB/s) - ‘/tmp/horse-or-human.zip’ saved [149574867/149574867]\n",
            "\n",
            "--2020-04-19 13:34:21--  https://storage.googleapis.com/laurencemoroney-blog.appspot.com/validation-horse-or-human.zip\n",
            "Resolving storage.googleapis.com (storage.googleapis.com)... 172.217.13.80, 2607:f8b0:4004:806::2010\n",
            "Connecting to storage.googleapis.com (storage.googleapis.com)|172.217.13.80|:443... connected.\n",
            "HTTP request sent, awaiting response... 200 OK\n",
            "Length: 11480187 (11M) [application/zip]\n",
            "Saving to: ‘/tmp/validation-horse-or-human.zip’\n",
            "\n",
            "/tmp/validation-hor 100%[===================>]  10.95M  --.-KB/s    in 0.08s   \n",
            "\n",
            "2020-04-19 13:34:22 (145 MB/s) - ‘/tmp/validation-horse-or-human.zip’ saved [11480187/11480187]\n",
            "\n"
          ],
          "name": "stdout"
        }
      ]
    },
    {
      "cell_type": "code",
      "metadata": {
        "id": "oGJmROP-Y-ss",
        "colab_type": "code",
        "colab": {}
      },
      "source": [
        "import tensorflow as tf"
      ],
      "execution_count": 0,
      "outputs": []
    },
    {
      "cell_type": "code",
      "metadata": {
        "id": "94tCO98MY_XE",
        "colab_type": "code",
        "colab": {}
      },
      "source": [
        "model = tf.keras.models.Sequential([\n",
        "    # Note the input shape is the desired size of the image 300x300 with 3 bytes color\n",
        "    # This is the first convolution\n",
        "    tf.keras.layers.Conv2D(16, (3,3), activation='relu', input_shape=(300, 300, 3)),\n",
        "    tf.keras.layers.MaxPooling2D(2, 2),\n",
        "    # The second convolution\n",
        "    tf.keras.layers.Conv2D(32, (3,3), activation='relu'),\n",
        "    tf.keras.layers.MaxPooling2D(2,2),\n",
        "    # The third convolution\n",
        "    tf.keras.layers.Conv2D(64, (3,3), activation='relu'),\n",
        "    tf.keras.layers.MaxPooling2D(2,2),\n",
        "    # The fourth convolution\n",
        "    tf.keras.layers.Conv2D(64, (3,3), activation='relu'),\n",
        "    tf.keras.layers.MaxPooling2D(2,2),\n",
        "    # The fifth convolution\n",
        "    tf.keras.layers.Conv2D(64, (3,3), activation='relu'),\n",
        "    tf.keras.layers.MaxPooling2D(2,2),\n",
        "    # Flatten the results to feed into a DNN\n",
        "    tf.keras.layers.Flatten(),\n",
        "    # 512 neuron hidden layer\n",
        "    tf.keras.layers.Dense(512, activation='relu'),\n",
        "    # Only 1 output neuron. It will contain a value from 0-1 where 0 for 1 class ('horses') and 1 for the other ('humans')\n",
        "    tf.keras.layers.Dense(1, activation='sigmoid')\n",
        "])"
      ],
      "execution_count": 0,
      "outputs": []
    },
    {
      "cell_type": "code",
      "metadata": {
        "id": "L9M5psTyZE43",
        "colab_type": "code",
        "colab": {}
      },
      "source": [
        "from tensorflow.keras.optimizers import RMSprop\n",
        "\n",
        "model.compile(loss='binary_crossentropy',\n",
        "              optimizer=RMSprop(lr=1e-4),\n",
        "              metrics=['accuracy'])"
      ],
      "execution_count": 0,
      "outputs": []
    },
    {
      "cell_type": "code",
      "metadata": {
        "id": "9J1ZgsXfZL0-",
        "colab_type": "code",
        "outputId": "e638fa21-4bbb-46c8-dd22-175017ae3411",
        "colab": {
          "base_uri": "https://localhost:8080/",
          "height": 51
        }
      },
      "source": [
        "from tensorflow.keras.preprocessing.image import ImageDataGenerator\n",
        "\n",
        "# All images will be rescaled by 1./255\n",
        "train_datagen = ImageDataGenerator(\n",
        "      rescale=1./255,\n",
        "      rotation_range=40,\n",
        "      width_shift_range=0.2,\n",
        "      height_shift_range=0.2,\n",
        "      shear_range=0.2,\n",
        "      zoom_range=0.2,\n",
        "      horizontal_flip=True,\n",
        "      fill_mode='nearest')\n",
        "\n",
        "validation_datagen = ImageDataGenerator(rescale=1/255)\n",
        "\n",
        "# Flow training images in batches of 128 using train_datagen generator\n",
        "train_generator = train_datagen.flow_from_directory(\n",
        "        '/tmp/horse-or-human/',  # This is the source directory for training images\n",
        "        target_size=(300, 300),  # All images will be resized to 150x150\n",
        "        batch_size=128,\n",
        "        # Since we use binary_crossentropy loss, we need binary labels\n",
        "        class_mode='binary')\n",
        "\n",
        "# Flow training images in batches of 128 using train_datagen generator\n",
        "validation_generator = validation_datagen.flow_from_directory(\n",
        "        '/tmp/validation-horse-or-human/',  # This is the source directory for training images\n",
        "        target_size=(300, 300),  # All images will be resized to 150x150\n",
        "        batch_size=32,\n",
        "        # Since we use binary_crossentropy loss, we need binary labels\n",
        "        class_mode='binary')"
      ],
      "execution_count": 12,
      "outputs": [
        {
          "output_type": "stream",
          "text": [
            "Found 1027 images belonging to 2 classes.\n",
            "Found 256 images belonging to 2 classes.\n"
          ],
          "name": "stdout"
        }
      ]
    },
    {
      "cell_type": "code",
      "metadata": {
        "id": "Na2R3ESIZRWX",
        "colab_type": "code",
        "outputId": "7cc704d8-fefb-47e2-e2e7-1c7c334c67b7",
        "colab": {
          "base_uri": "https://localhost:8080/",
          "height": 1000
        }
      },
      "source": [
        "history = model.fit(\n",
        "      train_generator,\n",
        "      steps_per_epoch=8,  \n",
        "      epochs=100,\n",
        "      verbose=1,\n",
        "      validation_data = validation_generator,\n",
        "      validation_steps=8)"
      ],
      "execution_count": 13,
      "outputs": [
        {
          "output_type": "stream",
          "text": [
            "Epoch 1/100\n",
            "8/8 [==============================] - 21s 3s/step - loss: 0.6799 - accuracy: 0.5752 - val_loss: 0.6432 - val_accuracy: 0.8047\n",
            "Epoch 2/100\n",
            "8/8 [==============================] - 21s 3s/step - loss: 0.6713 - accuracy: 0.6440 - val_loss: 0.6642 - val_accuracy: 0.4961\n",
            "Epoch 3/100\n",
            "8/8 [==============================] - 19s 2s/step - loss: 0.6519 - accuracy: 0.6885 - val_loss: 0.5976 - val_accuracy: 0.7500\n",
            "Epoch 4/100\n",
            "8/8 [==============================] - 19s 2s/step - loss: 0.5978 - accuracy: 0.6785 - val_loss: 0.6021 - val_accuracy: 0.5547\n",
            "Epoch 5/100\n",
            "8/8 [==============================] - 19s 2s/step - loss: 0.5430 - accuracy: 0.7253 - val_loss: 0.8908 - val_accuracy: 0.4961\n",
            "Epoch 6/100\n",
            "8/8 [==============================] - 19s 2s/step - loss: 0.6033 - accuracy: 0.7019 - val_loss: 0.7365 - val_accuracy: 0.5195\n",
            "Epoch 7/100\n",
            "8/8 [==============================] - 19s 2s/step - loss: 0.5327 - accuracy: 0.7397 - val_loss: 0.6515 - val_accuracy: 0.5664\n",
            "Epoch 8/100\n",
            "8/8 [==============================] - 19s 2s/step - loss: 0.5460 - accuracy: 0.7386 - val_loss: 0.5910 - val_accuracy: 0.5977\n",
            "Epoch 9/100\n",
            "8/8 [==============================] - 18s 2s/step - loss: 0.5179 - accuracy: 0.7597 - val_loss: 0.4857 - val_accuracy: 0.7031\n",
            "Epoch 10/100\n",
            "8/8 [==============================] - 21s 3s/step - loss: 0.4971 - accuracy: 0.7734 - val_loss: 1.0367 - val_accuracy: 0.5273\n",
            "Epoch 11/100\n",
            "8/8 [==============================] - 22s 3s/step - loss: 0.5172 - accuracy: 0.7442 - val_loss: 1.1030 - val_accuracy: 0.5312\n",
            "Epoch 12/100\n",
            "8/8 [==============================] - 19s 2s/step - loss: 0.4568 - accuracy: 0.7887 - val_loss: 0.7943 - val_accuracy: 0.5742\n",
            "Epoch 13/100\n",
            "8/8 [==============================] - 19s 2s/step - loss: 0.5238 - accuracy: 0.7542 - val_loss: 0.7646 - val_accuracy: 0.5625\n",
            "Epoch 14/100\n",
            "8/8 [==============================] - 19s 2s/step - loss: 0.4689 - accuracy: 0.7931 - val_loss: 1.0125 - val_accuracy: 0.5586\n",
            "Epoch 15/100\n",
            "8/8 [==============================] - 19s 2s/step - loss: 0.4070 - accuracy: 0.7987 - val_loss: 1.2773 - val_accuracy: 0.4766\n",
            "Epoch 16/100\n",
            "8/8 [==============================] - 19s 2s/step - loss: 0.4612 - accuracy: 0.7753 - val_loss: 1.2264 - val_accuracy: 0.5273\n",
            "Epoch 17/100\n",
            "8/8 [==============================] - 19s 2s/step - loss: 0.4040 - accuracy: 0.8031 - val_loss: 1.7834 - val_accuracy: 0.5117\n",
            "Epoch 18/100\n",
            "8/8 [==============================] - 19s 2s/step - loss: 0.4673 - accuracy: 0.8020 - val_loss: 0.5034 - val_accuracy: 0.7461\n",
            "Epoch 19/100\n",
            "8/8 [==============================] - 21s 3s/step - loss: 0.4415 - accuracy: 0.8184 - val_loss: 1.0662 - val_accuracy: 0.5938\n",
            "Epoch 20/100\n",
            "8/8 [==============================] - 21s 3s/step - loss: 0.5356 - accuracy: 0.7586 - val_loss: 1.2457 - val_accuracy: 0.5352\n",
            "Epoch 21/100\n",
            "8/8 [==============================] - 19s 2s/step - loss: 0.3343 - accuracy: 0.8298 - val_loss: 1.5702 - val_accuracy: 0.5078\n",
            "Epoch 22/100\n",
            "8/8 [==============================] - 18s 2s/step - loss: 0.4074 - accuracy: 0.8065 - val_loss: 1.5491 - val_accuracy: 0.5039\n",
            "Epoch 23/100\n",
            "8/8 [==============================] - 19s 2s/step - loss: 0.3889 - accuracy: 0.8343 - val_loss: 1.0395 - val_accuracy: 0.6406\n",
            "Epoch 24/100\n",
            "8/8 [==============================] - 18s 2s/step - loss: 0.3860 - accuracy: 0.8131 - val_loss: 1.8394 - val_accuracy: 0.5195\n",
            "Epoch 25/100\n",
            "8/8 [==============================] - 18s 2s/step - loss: 0.3477 - accuracy: 0.8509 - val_loss: 1.5034 - val_accuracy: 0.5664\n",
            "Epoch 26/100\n",
            "8/8 [==============================] - 19s 2s/step - loss: 0.3246 - accuracy: 0.8465 - val_loss: 1.7979 - val_accuracy: 0.5352\n",
            "Epoch 27/100\n",
            "8/8 [==============================] - 19s 2s/step - loss: 0.3513 - accuracy: 0.8242 - val_loss: 2.7134 - val_accuracy: 0.5000\n",
            "Epoch 28/100\n",
            "8/8 [==============================] - 21s 3s/step - loss: 0.3389 - accuracy: 0.8604 - val_loss: 1.1244 - val_accuracy: 0.6836\n",
            "Epoch 29/100\n",
            "8/8 [==============================] - 21s 3s/step - loss: 0.5430 - accuracy: 0.8065 - val_loss: 1.7549 - val_accuracy: 0.5156\n",
            "Epoch 30/100\n",
            "8/8 [==============================] - 19s 2s/step - loss: 0.3128 - accuracy: 0.8654 - val_loss: 1.2575 - val_accuracy: 0.6133\n",
            "Epoch 31/100\n",
            "8/8 [==============================] - 19s 2s/step - loss: 0.2921 - accuracy: 0.8621 - val_loss: 2.1981 - val_accuracy: 0.5586\n",
            "Epoch 32/100\n",
            "8/8 [==============================] - 19s 2s/step - loss: 0.4126 - accuracy: 0.8265 - val_loss: 1.5044 - val_accuracy: 0.5859\n",
            "Epoch 33/100\n",
            "8/8 [==============================] - 19s 2s/step - loss: 0.4120 - accuracy: 0.8387 - val_loss: 1.8491 - val_accuracy: 0.5469\n",
            "Epoch 34/100\n",
            "8/8 [==============================] - 19s 2s/step - loss: 0.3386 - accuracy: 0.8543 - val_loss: 1.8571 - val_accuracy: 0.5312\n",
            "Epoch 35/100\n",
            "8/8 [==============================] - 19s 2s/step - loss: 0.3041 - accuracy: 0.8665 - val_loss: 1.3390 - val_accuracy: 0.6016\n",
            "Epoch 36/100\n",
            "8/8 [==============================] - 19s 2s/step - loss: 0.3376 - accuracy: 0.8754 - val_loss: 3.9826 - val_accuracy: 0.5117\n",
            "Epoch 37/100\n",
            "8/8 [==============================] - 21s 3s/step - loss: 0.3818 - accuracy: 0.8408 - val_loss: 1.7667 - val_accuracy: 0.5664\n",
            "Epoch 38/100\n",
            "8/8 [==============================] - 22s 3s/step - loss: 0.2358 - accuracy: 0.9055 - val_loss: 1.4801 - val_accuracy: 0.6328\n",
            "Epoch 39/100\n",
            "8/8 [==============================] - 19s 2s/step - loss: 0.3138 - accuracy: 0.8598 - val_loss: 2.1044 - val_accuracy: 0.5625\n",
            "Epoch 40/100\n",
            "8/8 [==============================] - 19s 2s/step - loss: 0.2059 - accuracy: 0.8977 - val_loss: 2.7960 - val_accuracy: 0.5273\n",
            "Epoch 41/100\n",
            "8/8 [==============================] - 19s 2s/step - loss: 0.2752 - accuracy: 0.8654 - val_loss: 1.5991 - val_accuracy: 0.5898\n",
            "Epoch 42/100\n",
            "8/8 [==============================] - 19s 2s/step - loss: 0.2533 - accuracy: 0.8799 - val_loss: 2.1227 - val_accuracy: 0.5625\n",
            "Epoch 43/100\n",
            "8/8 [==============================] - 18s 2s/step - loss: 0.2980 - accuracy: 0.8732 - val_loss: 1.8744 - val_accuracy: 0.5742\n",
            "Epoch 44/100\n",
            "8/8 [==============================] - 19s 2s/step - loss: 0.2249 - accuracy: 0.8988 - val_loss: 2.9030 - val_accuracy: 0.5156\n",
            "Epoch 45/100\n",
            "8/8 [==============================] - 18s 2s/step - loss: 0.2022 - accuracy: 0.9232 - val_loss: 3.7228 - val_accuracy: 0.5312\n",
            "Epoch 46/100\n",
            "8/8 [==============================] - 21s 3s/step - loss: 0.2556 - accuracy: 0.8867 - val_loss: 2.5146 - val_accuracy: 0.5508\n",
            "Epoch 47/100\n",
            "8/8 [==============================] - 21s 3s/step - loss: 0.2642 - accuracy: 0.8799 - val_loss: 2.4602 - val_accuracy: 0.5703\n",
            "Epoch 48/100\n",
            "8/8 [==============================] - 19s 2s/step - loss: 0.2240 - accuracy: 0.8899 - val_loss: 1.5094 - val_accuracy: 0.6250\n",
            "Epoch 49/100\n",
            "8/8 [==============================] - 19s 2s/step - loss: 0.1834 - accuracy: 0.9132 - val_loss: 3.2797 - val_accuracy: 0.5195\n",
            "Epoch 50/100\n",
            "8/8 [==============================] - 19s 2s/step - loss: 0.2563 - accuracy: 0.8699 - val_loss: 2.3669 - val_accuracy: 0.5586\n",
            "Epoch 51/100\n",
            "8/8 [==============================] - 19s 2s/step - loss: 0.1704 - accuracy: 0.9232 - val_loss: 1.7939 - val_accuracy: 0.6680\n",
            "Epoch 52/100\n",
            "8/8 [==============================] - 19s 2s/step - loss: 0.2373 - accuracy: 0.8877 - val_loss: 2.4372 - val_accuracy: 0.5742\n",
            "Epoch 53/100\n",
            "8/8 [==============================] - 19s 2s/step - loss: 0.3050 - accuracy: 0.8888 - val_loss: 2.3777 - val_accuracy: 0.5586\n",
            "Epoch 54/100\n",
            "8/8 [==============================] - 19s 2s/step - loss: 0.1788 - accuracy: 0.9255 - val_loss: 3.3665 - val_accuracy: 0.5352\n",
            "Epoch 55/100\n",
            "8/8 [==============================] - 21s 3s/step - loss: 0.1781 - accuracy: 0.9424 - val_loss: 2.5205 - val_accuracy: 0.5898\n",
            "Epoch 56/100\n",
            "8/8 [==============================] - 21s 3s/step - loss: 0.2327 - accuracy: 0.9277 - val_loss: 2.5652 - val_accuracy: 0.5859\n",
            "Epoch 57/100\n",
            "8/8 [==============================] - 19s 2s/step - loss: 0.2588 - accuracy: 0.8921 - val_loss: 1.8859 - val_accuracy: 0.6133\n",
            "Epoch 58/100\n",
            "8/8 [==============================] - 19s 2s/step - loss: 0.1768 - accuracy: 0.9310 - val_loss: 2.7080 - val_accuracy: 0.5742\n",
            "Epoch 59/100\n",
            "8/8 [==============================] - 19s 2s/step - loss: 0.2041 - accuracy: 0.9099 - val_loss: 2.1325 - val_accuracy: 0.6211\n",
            "Epoch 60/100\n",
            "8/8 [==============================] - 19s 2s/step - loss: 0.1903 - accuracy: 0.9288 - val_loss: 2.6095 - val_accuracy: 0.5703\n",
            "Epoch 61/100\n",
            "8/8 [==============================] - 19s 2s/step - loss: 0.1301 - accuracy: 0.9422 - val_loss: 2.2383 - val_accuracy: 0.6406\n",
            "Epoch 62/100\n",
            "8/8 [==============================] - 19s 2s/step - loss: 0.2317 - accuracy: 0.8954 - val_loss: 2.6214 - val_accuracy: 0.5391\n",
            "Epoch 63/100\n",
            "8/8 [==============================] - 18s 2s/step - loss: 0.2655 - accuracy: 0.9166 - val_loss: 1.4073 - val_accuracy: 0.7461\n",
            "Epoch 64/100\n",
            "8/8 [==============================] - 21s 3s/step - loss: 0.2048 - accuracy: 0.9199 - val_loss: 2.2343 - val_accuracy: 0.6172\n",
            "Epoch 65/100\n",
            "8/8 [==============================] - 22s 3s/step - loss: 0.2001 - accuracy: 0.9110 - val_loss: 2.0452 - val_accuracy: 0.6211\n",
            "Epoch 66/100\n",
            "8/8 [==============================] - 19s 2s/step - loss: 0.1841 - accuracy: 0.9221 - val_loss: 2.2908 - val_accuracy: 0.6289\n",
            "Epoch 67/100\n",
            "8/8 [==============================] - 19s 2s/step - loss: 0.3366 - accuracy: 0.8910 - val_loss: 2.5405 - val_accuracy: 0.5703\n",
            "Epoch 68/100\n",
            "8/8 [==============================] - 19s 2s/step - loss: 0.1242 - accuracy: 0.9600 - val_loss: 2.3825 - val_accuracy: 0.6133\n",
            "Epoch 69/100\n",
            "8/8 [==============================] - 19s 2s/step - loss: 0.1225 - accuracy: 0.9522 - val_loss: 1.8451 - val_accuracy: 0.6953\n",
            "Epoch 70/100\n",
            "8/8 [==============================] - 19s 2s/step - loss: 0.2881 - accuracy: 0.8865 - val_loss: 2.1938 - val_accuracy: 0.6367\n",
            "Epoch 71/100\n",
            "8/8 [==============================] - 19s 2s/step - loss: 0.1327 - accuracy: 0.9533 - val_loss: 2.8938 - val_accuracy: 0.5781\n",
            "Epoch 72/100\n",
            "8/8 [==============================] - 19s 2s/step - loss: 0.1465 - accuracy: 0.9410 - val_loss: 6.2225 - val_accuracy: 0.4883\n",
            "Epoch 73/100\n",
            "8/8 [==============================] - 21s 3s/step - loss: 0.2086 - accuracy: 0.9209 - val_loss: 2.9189 - val_accuracy: 0.5781\n",
            "Epoch 74/100\n",
            "8/8 [==============================] - 21s 3s/step - loss: 0.1233 - accuracy: 0.9544 - val_loss: 2.5052 - val_accuracy: 0.6094\n",
            "Epoch 75/100\n",
            "8/8 [==============================] - 19s 2s/step - loss: 0.1572 - accuracy: 0.9266 - val_loss: 2.0657 - val_accuracy: 0.6719\n",
            "Epoch 76/100\n",
            "8/8 [==============================] - 19s 2s/step - loss: 0.1742 - accuracy: 0.9399 - val_loss: 2.5904 - val_accuracy: 0.6211\n",
            "Epoch 77/100\n",
            "8/8 [==============================] - 19s 2s/step - loss: 0.1549 - accuracy: 0.9255 - val_loss: 1.7013 - val_accuracy: 0.6562\n",
            "Epoch 78/100\n",
            "8/8 [==============================] - 19s 2s/step - loss: 0.1506 - accuracy: 0.9299 - val_loss: 2.9012 - val_accuracy: 0.5586\n",
            "Epoch 79/100\n",
            "8/8 [==============================] - 19s 2s/step - loss: 0.1891 - accuracy: 0.9377 - val_loss: 2.3843 - val_accuracy: 0.6289\n",
            "Epoch 80/100\n",
            "8/8 [==============================] - 19s 2s/step - loss: 0.1148 - accuracy: 0.9499 - val_loss: 2.4455 - val_accuracy: 0.6250\n",
            "Epoch 81/100\n",
            "8/8 [==============================] - 19s 2s/step - loss: 0.1198 - accuracy: 0.9533 - val_loss: 1.4699 - val_accuracy: 0.7305\n",
            "Epoch 82/100\n",
            "8/8 [==============================] - 21s 3s/step - loss: 0.1783 - accuracy: 0.9238 - val_loss: 2.4009 - val_accuracy: 0.6445\n",
            "Epoch 83/100\n",
            "8/8 [==============================] - 22s 3s/step - loss: 0.1567 - accuracy: 0.9488 - val_loss: 2.7435 - val_accuracy: 0.5977\n",
            "Epoch 84/100\n",
            "8/8 [==============================] - 19s 2s/step - loss: 0.0983 - accuracy: 0.9633 - val_loss: 3.4052 - val_accuracy: 0.5625\n",
            "Epoch 85/100\n",
            "8/8 [==============================] - 19s 2s/step - loss: 0.1652 - accuracy: 0.9299 - val_loss: 2.7319 - val_accuracy: 0.6211\n",
            "Epoch 86/100\n",
            "8/8 [==============================] - 19s 2s/step - loss: 0.1100 - accuracy: 0.9611 - val_loss: 2.6822 - val_accuracy: 0.6250\n",
            "Epoch 87/100\n",
            "8/8 [==============================] - 19s 2s/step - loss: 0.1183 - accuracy: 0.9511 - val_loss: 2.8740 - val_accuracy: 0.6289\n",
            "Epoch 88/100\n",
            "8/8 [==============================] - 19s 2s/step - loss: 0.1192 - accuracy: 0.9533 - val_loss: 1.7579 - val_accuracy: 0.6953\n",
            "Epoch 89/100\n",
            "8/8 [==============================] - 19s 2s/step - loss: 0.1499 - accuracy: 0.9399 - val_loss: 2.2009 - val_accuracy: 0.6523\n",
            "Epoch 90/100\n",
            "8/8 [==============================] - 19s 2s/step - loss: 0.1554 - accuracy: 0.9321 - val_loss: 2.2115 - val_accuracy: 0.6641\n",
            "Epoch 91/100\n",
            "8/8 [==============================] - 21s 3s/step - loss: 0.1143 - accuracy: 0.9619 - val_loss: 2.2698 - val_accuracy: 0.6797\n",
            "Epoch 92/100\n",
            "8/8 [==============================] - 22s 3s/step - loss: 0.0821 - accuracy: 0.9666 - val_loss: 3.2973 - val_accuracy: 0.6055\n",
            "Epoch 93/100\n",
            "8/8 [==============================] - 19s 2s/step - loss: 0.1801 - accuracy: 0.9099 - val_loss: 2.9328 - val_accuracy: 0.6367\n",
            "Epoch 94/100\n",
            "8/8 [==============================] - 19s 2s/step - loss: 0.0901 - accuracy: 0.9677 - val_loss: 3.2644 - val_accuracy: 0.6094\n",
            "Epoch 95/100\n",
            "8/8 [==============================] - 19s 2s/step - loss: 0.1785 - accuracy: 0.9121 - val_loss: 2.6823 - val_accuracy: 0.6094\n",
            "Epoch 96/100\n",
            "8/8 [==============================] - 19s 2s/step - loss: 0.1064 - accuracy: 0.9544 - val_loss: 2.7789 - val_accuracy: 0.6367\n",
            "Epoch 97/100\n",
            "8/8 [==============================] - 19s 2s/step - loss: 0.1166 - accuracy: 0.9633 - val_loss: 3.0070 - val_accuracy: 0.6250\n",
            "Epoch 98/100\n",
            "8/8 [==============================] - 19s 2s/step - loss: 0.0942 - accuracy: 0.9611 - val_loss: 2.5997 - val_accuracy: 0.6406\n",
            "Epoch 99/100\n",
            "8/8 [==============================] - 19s 2s/step - loss: 0.0845 - accuracy: 0.9655 - val_loss: 5.5737 - val_accuracy: 0.5508\n",
            "Epoch 100/100\n",
            "8/8 [==============================] - 21s 3s/step - loss: 0.1295 - accuracy: 0.9521 - val_loss: 1.5406 - val_accuracy: 0.7109\n"
          ],
          "name": "stdout"
        }
      ]
    },
    {
      "cell_type": "code",
      "metadata": {
        "id": "4QdvDboIZV0-",
        "colab_type": "code",
        "colab": {
          "base_uri": "https://localhost:8080/",
          "height": 545
        },
        "outputId": "65678914-8d7a-4fa2-aa89-346bf9f94618"
      },
      "source": [
        "import matplotlib.pyplot as plt\n",
        "acc = history.history['accuracy']\n",
        "val_acc = history.history['val_accuracy']\n",
        "loss = history.history['loss']\n",
        "val_loss = history.history['val_loss']\n",
        "\n",
        "epochs = range(len(acc))\n",
        "\n",
        "plt.plot(epochs, acc, 'r', label='Training accuracy')\n",
        "plt.plot(epochs, val_acc, 'b', label='Validation accuracy')\n",
        "plt.title('Training and validation accuracy')\n",
        "\n",
        "plt.figure()\n",
        "\n",
        "plt.plot(epochs, loss, 'r', label='Training Loss')\n",
        "plt.plot(epochs, val_loss, 'b', label='Validation Loss')\n",
        "plt.title('Training and validation loss')\n",
        "plt.legend()\n",
        "\n",
        "plt.show()"
      ],
      "execution_count": 14,
      "outputs": [
        {
          "output_type": "display_data",
          "data": {
            "image/png": "[encoded data removed]",
            "text/plain": [
              "<Figure size 432x288 with 1 Axes>"
            ]
          },
          "metadata": {
            "tags": [],
            "needs_background": "light"
          }
        },
        {
          "output_type": "display_data",
          "data": {
            "image/png": "[encoded data removed]",
            "text/plain": [
              "<Figure size 432x288 with 1 Axes>"
            ]
          },
          "metadata": {
            "tags": [],
            "needs_background": "light"
          }
        }
      ]
    },
    {
      "cell_type": "markdown",
      "metadata": {
        "id": "So6kIX2jxoB5",
        "colab_type": "text"
      },
      "source": [
        "The fluctuation in test accuracy shows, even thoguh we used augmentation, test data is very sparse or not very distinctive, and cause test accuracy fluctuates even when the trainign accuracy is high. So we need other alternatives if data is too less. Transfer learning."
      ]
    }
  ]
}