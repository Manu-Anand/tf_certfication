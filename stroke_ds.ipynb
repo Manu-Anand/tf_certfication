{
  "nbformat": 4,
  "nbformat_minor": 0,
  "metadata": {
    "colab": {
      "name": "stroke_ds.ipynb",
      "provenance": [],
      "collapsed_sections": [],
      "authorship_tag": "ABX9TyOWxqQOixYgvOUItl6+EkJW",
      "include_colab_link": true
    },
    "kernelspec": {
      "name": "python3",
      "display_name": "Python 3"
    },
    "accelerator": "GPU"
  },
  "cells": [
    {
      "cell_type": "markdown",
      "metadata": {
        "id": "view-in-github",
        "colab_type": "text"
      },
      "source": [
        "<a href=\"https://colab.research.google.com/github/Manu-Anand/tf_certfication/blob/master/stroke_ds.ipynb\" target=\"_parent\"><img src=\"https://colab.research.google.com/assets/colab-badge.svg\" alt=\"Open In Colab\"/></a>"
      ]
    },
    {
      "cell_type": "code",
      "metadata": {
        "id": "VxeVUZ9iYNac",
        "colab_type": "code",
        "colab": {}
      },
      "source": [
        "#from google.colab import files\n",
        "#uploaded = files.upload()"
      ],
      "execution_count": 0,
      "outputs": []
    },
    {
      "cell_type": "markdown",
      "metadata": {
        "id": "F26rVtw_78lr",
        "colab_type": "text"
      },
      "source": [
        "**Install Dependancies below. **\n",
        "1. pip install -U imbalanced-learn (For SMOTE related libraries)\n",
        "2. Uses seaborn libraries to plot"
      ]
    },
    {
      "cell_type": "code",
      "metadata": {
        "id": "W0qsgxMiZQ0b",
        "colab_type": "code",
        "colab": {}
      },
      "source": [
        "#imports required libraries\n",
        "import pandas as pd\n",
        "import matplotlib.pyplot as plt\n",
        "import seaborn as sns\n",
        "import folium\n",
        "import plotly.express as px\n",
        "import plotly.graph_objects as go\n",
        "import numpy as np\n",
        "import math \n",
        "from matplotlib import rcParams\n",
        "from matplotlib.cm import rainbow\n",
        "from sklearn.preprocessing import LabelEncoder\n",
        "from sklearn.model_selection import train_test_split\n",
        "from sklearn.ensemble import RandomForestClassifier\n",
        "from sklearn.metrics import confusion_matrix\n",
        "from sklearn.metrics import classification_report\n",
        "from sklearn.metrics import precision_recall_curve\n",
        "from sklearn.metrics import plot_precision_recall_curve\n",
        "import matplotlib.pyplot as pltp\n",
        "from sklearn.metrics import average_precision_score\n",
        "from sklearn.metrics import average_precision_score\n",
        "from imblearn.over_sampling import SMOTE\n",
        "from imblearn.under_sampling import RandomUnderSampler\n",
        "from sklearn.manifold import TSNE\n",
        "from sklearn.decomposition import PCA\n",
        "from collections import Counter\n",
        "from imblearn.pipeline import Pipeline\n",
        "import numpy as np\n",
        "from sklearn.feature_selection import SelectKBest\n",
        "from sklearn.feature_selection import chi2\n",
        "from pandas.plotting import parallel_coordinates"
      ],
      "execution_count": 0,
      "outputs": []
    },
    {
      "cell_type": "markdown",
      "metadata": {
        "id": "jiMVUley8s1-",
        "colab_type": "text"
      },
      "source": [
        "Reads training data from csv file"
      ]
    },
    {
      "cell_type": "code",
      "metadata": {
        "id": "3K3reYZWoBU1",
        "colab_type": "code",
        "colab": {}
      },
      "source": [
        "stroke_data = pd.read_csv('train_2v.csv')"
      ],
      "execution_count": 0,
      "outputs": []
    },
    {
      "cell_type": "markdown",
      "metadata": {
        "id": "3NJrFlCf-hsb",
        "colab_type": "text"
      },
      "source": [
        "Describes the dataframe. \n",
        "1. Rows with null values are seen for 'bmi' and 'smoking_status'\n",
        "2. Nulls for bmi has been filled with mean of data\n",
        "3. Nulls/Nans against 'smoking_status' handled by remoning the rows.\n",
        "4. Class count is displayed in plot \n",
        "5. Inference - the data has imbalanced labels - 97% positive classes."
      ]
    },
    {
      "cell_type": "code",
      "metadata": {
        "id": "tXMIYjSd-lNj",
        "colab_type": "code",
        "colab": {
          "base_uri": "https://localhost:8080/",
          "height": 1000
        },
        "outputId": "bfa565e1-346a-494c-900f-b617e8f48d16"
      },
      "source": [
        "stroke_data.describe(include = 'all')\n",
        "# The below code shows there are many null values\n",
        "print('Train columns with null values:\\n', stroke_data.isnull().sum())\n",
        "\n",
        "stroke_data['bmi'].fillna((stroke_data['bmi'].mean()), inplace=True)\n",
        "print('Train columns with bmi values:\\n', stroke_data.isnull().sum())\n",
        "stroke_data = stroke_data.dropna()\n",
        "print('Train n', stroke_data.isnull().sum())\n",
        "class_count = stroke_data.stroke.value_counts()\n",
        "stroke_data = stroke_data.reset_index()\n",
        "print(class_count)\n",
        "# The below code shows that  the data has class imbalance problem\n",
        "# The data is unbalanced\n",
        "rcParams['figure.figsize'] = 5, 5\n",
        "class_count = stroke_data.stroke.value_counts()\n",
        "print('class count', class_count)\n",
        "ax = sns.countplot(x=\"stroke\", data=stroke_data)"
      ],
      "execution_count": 739,
      "outputs": [
        {
          "output_type": "stream",
          "text": [
            "Train columns with null values:\n",
            " id                       0\n",
            "gender                   0\n",
            "age                      0\n",
            "hypertension             0\n",
            "heart_disease            0\n",
            "ever_married             0\n",
            "work_type                0\n",
            "Residence_type           0\n",
            "avg_glucose_level        0\n",
            "bmi                   1462\n",
            "smoking_status       13292\n",
            "stroke                   0\n",
            "dtype: int64\n",
            "Train columns with bmi values:\n",
            " id                       0\n",
            "gender                   0\n",
            "age                      0\n",
            "hypertension             0\n",
            "heart_disease            0\n",
            "ever_married             0\n",
            "work_type                0\n",
            "Residence_type           0\n",
            "avg_glucose_level        0\n",
            "bmi                      0\n",
            "smoking_status       13292\n",
            "stroke                   0\n",
            "dtype: int64\n",
            "Train n id                   0\n",
            "gender               0\n",
            "age                  0\n",
            "hypertension         0\n",
            "heart_disease        0\n",
            "ever_married         0\n",
            "work_type            0\n",
            "Residence_type       0\n",
            "avg_glucose_level    0\n",
            "bmi                  0\n",
            "smoking_status       0\n",
            "stroke               0\n",
            "dtype: int64\n",
            "0    29470\n",
            "1      638\n",
            "Name: stroke, dtype: int64\n",
            "class count 0    29470\n",
            "1      638\n",
            "Name: stroke, dtype: int64\n"
          ],
          "name": "stdout"
        },
        {
          "output_type": "display_data",
          "data": {
            "image/png": "[encoded data removed]",
            "text/plain": [
              "<Figure size 360x360 with 1 Axes>"
            ]
          },
          "metadata": {
            "tags": []
          }
        }
      ]
    },
    {
      "cell_type": "markdown",
      "metadata": {
        "id": "ZaGV2aRv80qe",
        "colab_type": "text"
      },
      "source": [
        "Trainig data is stored in pandas dataframe - 'stroke_data' and uses LabelEncoder to encode categorical variables."
      ]
    },
    {
      "cell_type": "code",
      "metadata": {
        "id": "Ym1w4Z3YoF-S",
        "colab_type": "code",
        "colab": {
          "base_uri": "https://localhost:8080/",
          "height": 131
        },
        "outputId": "0b88b639-931d-4b5d-f56e-9033c357616a"
      },
      "source": [
        "# Smoking status got many Nan Values. So Drops them. Recheck other alternatives\n",
        "stroke_data = stroke_data[stroke_data['smoking_status'].notna()]\n",
        "label_encoding(\"work_type\")\n",
        "label_encoding(\"Residence_type\")\n",
        "label_encoding(\"ever_married\")\n",
        "label_encoding(\"gender\")\n",
        "label_encoding(\"smoking_status\")\n",
        "label_names = [0, 1]\n",
        "stroke_data.head(2)"
      ],
      "execution_count": 740,
      "outputs": [
        {
          "output_type": "execute_result",
          "data": {
            "text/html": [
              "<div>\n",
              "<style scoped>\n",
              "    .dataframe tbody tr th:only-of-type {\n",
              "        vertical-align: middle;\n",
              "    }\n",
              "\n",
              "    .dataframe tbody tr th {\n",
              "        vertical-align: top;\n",
              "    }\n",
              "\n",
              "    .dataframe thead th {\n",
              "        text-align: right;\n",
              "    }\n",
              "</style>\n",
              "<table border=\"1\" class=\"dataframe\">\n",
              "  <thead>\n",
              "    <tr style=\"text-align: right;\">\n",
              "      <th></th>\n",
              "      <th>index</th>\n",
              "      <th>id</th>\n",
              "      <th>gender</th>\n",
              "      <th>age</th>\n",
              "      <th>hypertension</th>\n",
              "      <th>heart_disease</th>\n",
              "      <th>ever_married</th>\n",
              "      <th>work_type</th>\n",
              "      <th>Residence_type</th>\n",
              "      <th>avg_glucose_level</th>\n",
              "      <th>bmi</th>\n",
              "      <th>smoking_status</th>\n",
              "      <th>stroke</th>\n",
              "    </tr>\n",
              "  </thead>\n",
              "  <tbody>\n",
              "    <tr>\n",
              "      <th>0</th>\n",
              "      <td>1</td>\n",
              "      <td>30468</td>\n",
              "      <td>1</td>\n",
              "      <td>58.0</td>\n",
              "      <td>1</td>\n",
              "      <td>0</td>\n",
              "      <td>1</td>\n",
              "      <td>2</td>\n",
              "      <td>1</td>\n",
              "      <td>87.96</td>\n",
              "      <td>39.2</td>\n",
              "      <td>1</td>\n",
              "      <td>0</td>\n",
              "    </tr>\n",
              "    <tr>\n",
              "      <th>1</th>\n",
              "      <td>3</td>\n",
              "      <td>56543</td>\n",
              "      <td>0</td>\n",
              "      <td>70.0</td>\n",
              "      <td>0</td>\n",
              "      <td>0</td>\n",
              "      <td>1</td>\n",
              "      <td>2</td>\n",
              "      <td>0</td>\n",
              "      <td>69.04</td>\n",
              "      <td>35.9</td>\n",
              "      <td>0</td>\n",
              "      <td>0</td>\n",
              "    </tr>\n",
              "  </tbody>\n",
              "</table>\n",
              "</div>"
            ],
            "text/plain": [
              "   index     id  gender   age  ...  avg_glucose_level   bmi  smoking_status  stroke\n",
              "0      1  30468       1  58.0  ...              87.96  39.2               1       0\n",
              "1      3  56543       0  70.0  ...              69.04  35.9               0       0\n",
              "\n",
              "[2 rows x 13 columns]"
            ]
          },
          "metadata": {
            "tags": []
          },
          "execution_count": 740
        }
      ]
    },
    {
      "cell_type": "markdown",
      "metadata": {
        "id": "A3wukXxE9DFK",
        "colab_type": "text"
      },
      "source": [
        "1. Split the data as features and Labels (X and y)\n",
        "2. Normalize the data "
      ]
    },
    {
      "cell_type": "code",
      "metadata": {
        "id": "SpzFVKmErinK",
        "colab_type": "code",
        "colab": {
          "base_uri": "https://localhost:8080/",
          "height": 544
        },
        "outputId": "1001b17a-359c-4b2d-c8e4-abcd198051a6"
      },
      "source": [
        "stroke_data_x = stroke_data.drop('stroke', axis=1)\n",
        "stroke_data_y = stroke_data['stroke']\n",
        "print(stroke_data_y.value_counts())\n",
        "#Normalize the data\n",
        "stroke_data_x = (stroke_data_x - stroke_data_x.min())/(stroke_data_x.max() - stroke_data_x.min())\n",
        "stroke_data_x.drop(['work_type','Residence_type'], axis=1, inplace=True)\n",
        "print(stroke_data_x)\n",
        "# Remove below line of code if you dont need val dataset\n",
        "stroke_data_x, x_val, stroke_data_y, y_val = train_test_split(stroke_data_x, stroke_data_y, test_size=0.1, random_state=0, stratify=stroke_data_y)\n",
        "print(x_val)"
      ],
      "execution_count": 741,
      "outputs": [
        {
          "output_type": "stream",
          "text": [
            "0    29470\n",
            "1      638\n",
            "Name: stroke, dtype: int64\n",
            "          index        id  gender  ...  avg_glucose_level       bmi  smoking_status\n",
            "0      0.000000  0.417688     0.5  ...           0.139595  0.355311             0.5\n",
            "1      0.000046  0.775164     0.0  ...           0.059439  0.315018             0.0\n",
            "2      0.000115  0.723849     0.0  ...           0.095662  0.092796             0.0\n",
            "3      0.000138  0.567739     0.0  ...           0.798678  0.206349             0.5\n",
            "4      0.000161  0.209276     0.0  ...           0.096001  0.271062             1.0\n",
            "...         ...       ...     ...  ...                ...       ...             ...\n",
            "30103  0.999908  0.770407     0.0  ...           0.015379  0.125763             0.5\n",
            "30104  0.999931  0.074703     0.0  ...           0.671920  0.553114             0.0\n",
            "30105  0.999954  0.388994     0.0  ...           0.156457  0.229548             0.0\n",
            "30106  0.999977  0.383483     0.5  ...           0.187045  0.282051             0.5\n",
            "30107  1.000000  0.497244     0.0  ...           0.103669  0.128205             0.5\n",
            "\n",
            "[30108 rows x 10 columns]\n",
            "          index        id  gender  ...  avg_glucose_level       bmi  smoking_status\n",
            "22797  0.757431  0.461065     0.0  ...           0.131037  0.167277             0.5\n",
            "3935   0.130789  0.775150     0.5  ...           0.108371  0.251526             0.5\n",
            "16365  0.541569  0.051137     0.5  ...           0.149636  0.404151             0.5\n",
            "4244   0.141066  0.055620     0.0  ...           0.082062  0.242979             0.0\n",
            "16412  0.543251  0.264923     0.5  ...           0.063083  0.188034             0.5\n",
            "...         ...       ...     ...  ...                ...       ...             ...\n",
            "706    0.022904  0.119629     0.5  ...           0.119090  0.238095             0.0\n",
            "6363   0.211646  0.247402     0.5  ...           0.076131  0.148962             0.0\n",
            "8220   0.271418  0.442228     0.0  ...           0.304694  0.308913             0.0\n",
            "25586  0.850684  0.828535     0.5  ...           0.409464  0.227106             0.0\n",
            "10953  0.362067  0.961175     0.5  ...           0.436282  0.261294             0.5\n",
            "\n",
            "[3011 rows x 10 columns]\n"
          ],
          "name": "stdout"
        }
      ]
    },
    {
      "cell_type": "markdown",
      "metadata": {
        "id": "SZP-fg4CAf3h",
        "colab_type": "text"
      },
      "source": [
        "1. Define a Random Forest classifier in a method"
      ]
    },
    {
      "cell_type": "code",
      "metadata": {
        "id": "_NRM9NPL8W_8",
        "colab_type": "code",
        "colab": {}
      },
      "source": [
        "def classify_RandomForestClassifier(estimators): \n",
        "  rf_classifier = RandomForestClassifier(n_estimators = estimators, random_state = 0)\n",
        "  rf_classifier.fit(x_train, y_train)\n",
        "  return rf_classifier"
      ],
      "execution_count": 0,
      "outputs": []
    },
    {
      "cell_type": "markdown",
      "metadata": {
        "id": "Zs_GNtBGdbtc",
        "colab_type": "text"
      },
      "source": [
        "1. Displayes correlation amongs features\n",
        "2. Inference - There is no correlation except for age and ever_married(approx0.4)"
      ]
    },
    {
      "cell_type": "code",
      "metadata": {
        "id": "4mCF6X_losGv",
        "colab_type": "code",
        "outputId": "98ecf279-d0a0-4771-d703-b262bbbc5250",
        "colab": {
          "base_uri": "https://localhost:8080/",
          "height": 610
        }
      },
      "source": [
        "# Displays correlation metrics\n",
        "# Inference - Age and marriage has some correlation. All other fileds shows very less correlation\n",
        "rcParams['figure.figsize'] = 10, 10\n",
        "plt.matshow(stroke_data.corr())\n",
        "plt.yticks(np.arange(stroke_data.shape[1]), stroke_data.columns)\n",
        "plt.xticks(np.arange(stroke_data.shape[1]), stroke_data.columns)\n",
        "plt.colorbar()"
      ],
      "execution_count": 743,
      "outputs": [
        {
          "output_type": "execute_result",
          "data": {
            "text/plain": [
              "<matplotlib.colorbar.Colorbar at 0x7f4a3dc5b080>"
            ]
          },
          "metadata": {
            "tags": []
          },
          "execution_count": 743
        },
        {
          "output_type": "display_data",
          "data": {
            "image/png": "[encoded data removed]",
            "text/plain": [
              "<Figure size 720x720 with 2 Axes>"
            ]
          },
          "metadata": {
            "tags": []
          }
        }
      ]
    },
    {
      "cell_type": "markdown",
      "metadata": {
        "id": "AeQv0k_zA48j",
        "colab_type": "text"
      },
      "source": [
        "1. Displays a count plot of 'bmi' against stoke class"
      ]
    },
    {
      "cell_type": "code",
      "metadata": {
        "id": "IMPTgYranEig",
        "colab_type": "code",
        "outputId": "580d2d33-9df7-4d98-ad84-1a4526c0d960",
        "colab": {
          "base_uri": "https://localhost:8080/",
          "height": 334
        }
      },
      "source": [
        "\n",
        "rcParams['figure.figsize'] = 5, 5\n",
        "ax = sns.countplot(x=\"bmi\", data=stroke_data, hue=\"stroke\")\n"
      ],
      "execution_count": 744,
      "outputs": [
        {
          "output_type": "display_data",
          "data": {
            "image/png": "[encoded data removed]",
            "text/plain": [
              "<Figure size 360x360 with 1 Axes>"
            ]
          },
          "metadata": {
            "tags": []
          }
        }
      ]
    },
    {
      "cell_type": "code",
      "metadata": {
        "id": "Ok3ozF1Rk7ya",
        "colab_type": "code",
        "colab": {}
      },
      "source": [
        "def best_features():\n",
        "  bestfeatures = SelectKBest(score_func=chi2, k=7)\n",
        "  fit = bestfeatures.fit(stroke_data_x,stroke_data_y)\n",
        "  scores = pd.DataFrame(fit.scores_)\n",
        "  columns = pd.DataFrame(x.columns)\n",
        "  #concat two dataframes for better visualization \n",
        "  featureScores = pd.concat([columns,scores],axis=1)\n",
        "  featureScores.columns = ['Specs','Score']  #naming the dataframe columns\n",
        "  print(featureScores.nlargest(10,'Score'))  #print 10 best features"
      ],
      "execution_count": 0,
      "outputs": []
    },
    {
      "cell_type": "code",
      "metadata": {
        "id": "l0ICpBOtierO",
        "colab_type": "code",
        "colab": {
          "base_uri": "https://localhost:8080/",
          "height": 119
        },
        "outputId": "6c1ace42-9afe-48ad-b86a-d91b19d786f1"
      },
      "source": [
        "# Split the data into predictors and target\n",
        "x_train, x_test, y_train, y_test = train_test_split(stroke_data_x, stroke_data_y, test_size=0.2, random_state=0, stratify=stroke_data_y)\n",
        "#x_test_not_used,x_val,y_test_not_used,y_val = train_test_split(x_test, y_test, test_size=0.9, random_state=0, stratify=y_test)\n",
        "class_count = y_train.value_counts()\n",
        "print(class_count)\n",
        "class_count = y_test.value_counts()\n",
        "print(class_count)"
      ],
      "execution_count": 746,
      "outputs": [
        {
          "output_type": "stream",
          "text": [
            "0    21218\n",
            "1      459\n",
            "Name: stroke, dtype: int64\n",
            "0    5305\n",
            "1     115\n",
            "Name: stroke, dtype: int64\n"
          ],
          "name": "stdout"
        }
      ]
    },
    {
      "cell_type": "code",
      "metadata": {
        "id": "2BiymN6N8M2b",
        "colab_type": "code",
        "colab": {
          "base_uri": "https://localhost:8080/",
          "height": 846
        },
        "outputId": "f7cf3719-5bd7-420e-983a-7e9579bee29d"
      },
      "source": [
        "# Invoke RF Classifier\n",
        "best_features()\n",
        "estimators = 100\n",
        "rf_classifier = classify_RandomForestClassifier(estimators)\n",
        "print(rf_classifier.score(x_test, y_test))\n",
        "y_test_pred = rf_classifier.predict(x_test)\n",
        "cm = confusion_matrix(y_test, y_test_pred)\n",
        "#plot_classfier(estimators)\n",
        "print('Confusion Matrics: ', cm)\n",
        "print('Classification Report', classification_report(y_test, y_test_pred))\n",
        "\n",
        "#y_score = rf_classifier.decision_function(X_test)\n",
        "#average_precision = average_precision_score(y_test, y_score)\n",
        "#print('Average precision-recall score: {0:0.2f}'.format(\n",
        "      #average_precision))\n",
        "disp = plot_precision_recall_curve(rf_classifier, x_test, y_test)\n",
        "disp.ax_.set_title('2-class Precision-Recall curve')"
      ],
      "execution_count": 747,
      "outputs": [
        {
          "output_type": "stream",
          "text": [
            "               Specs       Score\n",
            "5      heart_disease  254.226279\n",
            "4       hypertension  115.962250\n",
            "3                age   89.956659\n",
            "7          work_type   25.998416\n",
            "6       ever_married   20.063589\n",
            "9  avg_glucose_level    3.449518\n",
            "2             gender    0.913066\n",
            "0              index    0.412164\n",
            "1                 id    0.056096\n",
            "8     Residence_type    0.045341\n",
            "0.9787822878228782\n",
            "Confusion Matrics:  [[5305    0]\n",
            " [ 115    0]]\n",
            "Classification Report               precision    recall  f1-score   support\n",
            "\n",
            "           0       0.98      1.00      0.99      5305\n",
            "           1       0.00      0.00      0.00       115\n",
            "\n",
            "    accuracy                           0.98      5420\n",
            "   macro avg       0.49      0.50      0.49      5420\n",
            "weighted avg       0.96      0.98      0.97      5420\n",
            "\n"
          ],
          "name": "stdout"
        },
        {
          "output_type": "stream",
          "text": [
            "/usr/local/lib/python3.6/dist-packages/sklearn/metrics/_classification.py:1272: UndefinedMetricWarning:\n",
            "\n",
            "Precision and F-score are ill-defined and being set to 0.0 in labels with no predicted samples. Use `zero_division` parameter to control this behavior.\n",
            "\n"
          ],
          "name": "stderr"
        },
        {
          "output_type": "execute_result",
          "data": {
            "text/plain": [
              "Text(0.5, 1.0, '2-class Precision-Recall curve')"
            ]
          },
          "metadata": {
            "tags": []
          },
          "execution_count": 747
        },
        {
          "output_type": "display_data",
          "data": {
            "image/png": "[encoded data removed]",
            "text/plain": [
              "<Figure size 360x360 with 1 Axes>"
            ]
          },
          "metadata": {
            "tags": []
          }
        }
      ]
    },
    {
      "cell_type": "code",
      "metadata": {
        "id": "DkzmkSltX1xz",
        "colab_type": "code",
        "colab": {
          "base_uri": "https://localhost:8080/",
          "height": 758
        },
        "outputId": "6125b47c-09eb-4a31-a93c-f30dacd2cdc0"
      },
      "source": [
        "smote_stroke_y= stroke_data_y\n",
        "smote_stroke_x = stroke_data_x\n",
        "#Oversmaple the minority class 10% of major class\n",
        "over_sample = SMOTE(sampling_strategy=0.2)\n",
        "\n",
        "# Undersample the majority class 50% \n",
        "under_sample = RandomUnderSampler(sampling_strategy=0.3)\n",
        "steps = [('o', over_sample), ('u', under_sample)]\n",
        "# Add this to pipeline\n",
        "pipeline = Pipeline(steps=steps)\n",
        "best_features()\n",
        "smote_stroke_x, smote_stroke_y = pipeline.fit_resample(smote_stroke_x, smote_stroke_y)\n",
        "\n",
        "\n",
        "x_train, x_test, y_train, y_test = train_test_split(smote_stroke_x, smote_stroke_y, test_size=0.3, random_state=0, stratify=smote_stroke_y)\n",
        "estimators = 100\n",
        "rf_classifier = classify_RandomForestClassifier(estimators)\n",
        "print(rf_classifier.score(x_test, y_test))\n",
        "y_test_pred = rf_classifier.predict(x_test)\n",
        "cm = confusion_matrix(y_test, y_test_pred)\n",
        "#plot_classfier(estimators)\n",
        "print('Confusion Matrics: ', cm)\n",
        "print('Classification Report', classification_report(y_test, y_test_pred))\n",
        "\n",
        "disp = plot_precision_recall_curve(rf_classifier, x_test, y_test)\n",
        "disp.ax_.set_title('2-class Precision-Recall curve')"
      ],
      "execution_count": 748,
      "outputs": [
        {
          "output_type": "stream",
          "text": [
            "               Specs       Score\n",
            "5      heart_disease  254.226279\n",
            "4       hypertension  115.962250\n",
            "3                age   89.956659\n",
            "7          work_type   25.998416\n",
            "6       ever_married   20.063589\n",
            "9  avg_glucose_level    3.449518\n",
            "2             gender    0.913066\n",
            "0              index    0.412164\n",
            "1                 id    0.056096\n",
            "8     Residence_type    0.045341\n",
            "0.94127030162413\n",
            "Confusion Matrics:  [[5190  115]\n",
            " [ 290 1301]]\n",
            "Classification Report               precision    recall  f1-score   support\n",
            "\n",
            "           0       0.95      0.98      0.96      5305\n",
            "           1       0.92      0.82      0.87      1591\n",
            "\n",
            "    accuracy                           0.94      6896\n",
            "   macro avg       0.93      0.90      0.91      6896\n",
            "weighted avg       0.94      0.94      0.94      6896\n",
            "\n"
          ],
          "name": "stdout"
        },
        {
          "output_type": "execute_result",
          "data": {
            "text/plain": [
              "Text(0.5, 1.0, '2-class Precision-Recall curve')"
            ]
          },
          "metadata": {
            "tags": []
          },
          "execution_count": 748
        },
        {
          "output_type": "display_data",
          "data": {
            "image/png": "[encoded data removed]",
            "text/plain": [
              "<Figure size 360x360 with 1 Axes>"
            ]
          },
          "metadata": {
            "tags": []
          }
        }
      ]
    },
    {
      "cell_type": "code",
      "metadata": {
        "id": "ZZews_qCt1at",
        "colab_type": "code",
        "colab": {
          "base_uri": "https://localhost:8080/",
          "height": 758
        },
        "outputId": "ca2e5df4-eab2-4385-e2ed-ba091310efb0"
      },
      "source": [
        "smote_stroke_y= stroke_data_y\n",
        "smote_stroke_x = stroke_data_x\n",
        "best_features()\n",
        "#smote_stroke_x.drop(['work_type','Residence_type'], axis=1, inplace=True)\n",
        "#Oversmaple the minority class 10% of major class\n",
        "over_sample = SMOTE(sampling_strategy=0.1)\n",
        "\n",
        "# Undersample the majority class 50% \n",
        "under_sample = RandomUnderSampler(sampling_strategy=0.5)\n",
        "steps = [('o', over_sample), ('u', under_sample)]\n",
        "# Add this to pipeline\n",
        "pipeline = Pipeline(steps=steps)\n",
        "\n",
        "smote_stroke_x, smote_stroke_y = pipeline.fit_resample(smote_stroke_x, smote_stroke_y)\n",
        "\n",
        "\n",
        "x_train, x_test, y_train, y_test = train_test_split(smote_stroke_x, smote_stroke_y, test_size=0.3, random_state=0, stratify=smote_stroke_y)\n",
        "#x_test,x_val,y_test,y_val = train_test_split(x_test, y_test, test_size=0.1, random_state=0, stratify=y_test)\n",
        "estimators = 100\n",
        "rf_classifier = classify_RandomForestClassifier(estimators)\n",
        "print(rf_classifier.score(x_test, y_test))\n",
        "y_test_pred = rf_classifier.predict(x_test)\n",
        "cm = confusion_matrix(y_test, y_test_pred)\n",
        "#plot_classfier(estimators)\n",
        "print('Confusion Matrics: ', cm)\n",
        "print('Classification Report', classification_report(y_test, y_test_pred))\n",
        "\n",
        "disp = plot_precision_recall_curve(rf_classifier, x_test, y_test)\n",
        "disp.ax_.set_title('2-class Precision-Recall curve')"
      ],
      "execution_count": 749,
      "outputs": [
        {
          "output_type": "stream",
          "text": [
            "               Specs       Score\n",
            "5      heart_disease  254.226279\n",
            "4       hypertension  115.962250\n",
            "3                age   89.956659\n",
            "7          work_type   25.998416\n",
            "6       ever_married   20.063589\n",
            "9  avg_glucose_level    3.449518\n",
            "2             gender    0.913066\n",
            "0              index    0.412164\n",
            "1                 id    0.056096\n",
            "8     Residence_type    0.045341\n",
            "0.8734813573523251\n",
            "Confusion Matrics:  [[1436  155]\n",
            " [ 147  649]]\n",
            "Classification Report               precision    recall  f1-score   support\n",
            "\n",
            "           0       0.91      0.90      0.90      1591\n",
            "           1       0.81      0.82      0.81       796\n",
            "\n",
            "    accuracy                           0.87      2387\n",
            "   macro avg       0.86      0.86      0.86      2387\n",
            "weighted avg       0.87      0.87      0.87      2387\n",
            "\n"
          ],
          "name": "stdout"
        },
        {
          "output_type": "execute_result",
          "data": {
            "text/plain": [
              "Text(0.5, 1.0, '2-class Precision-Recall curve')"
            ]
          },
          "metadata": {
            "tags": []
          },
          "execution_count": 749
        },
        {
          "output_type": "display_data",
          "data": {
            "image/png": "[encoded data removed]",
            "text/plain": [
              "<Figure size 360x360 with 1 Axes>"
            ]
          },
          "metadata": {
            "tags": []
          }
        }
      ]
    },
    {
      "cell_type": "code",
      "metadata": {
        "id": "o8gr9S-C7Tvb",
        "colab_type": "code",
        "colab": {
          "base_uri": "https://localhost:8080/",
          "height": 554
        },
        "outputId": "fcf564fa-4b21-4364-e53f-6f4122e78969"
      },
      "source": [
        "y_val_pred = rf_classifier.predict(x_val)\n",
        "cm = confusion_matrix(y_val, y_val_pred)\n",
        "#plot_classfier(estimators)\n",
        "print('Confusion Matrics: ', cm)\n",
        "print('Classification Report', classification_report(y_val, y_val_pred))\n",
        "\n",
        "disp = plot_precision_recall_curve(rf_classifier, x_val, y_val)\n",
        "disp.ax_.set_title('2-class Precision-Recall curve')"
      ],
      "execution_count": 750,
      "outputs": [
        {
          "output_type": "stream",
          "text": [
            "Confusion Matrics:  [[2664  283]\n",
            " [  33   31]]\n",
            "Classification Report               precision    recall  f1-score   support\n",
            "\n",
            "           0       0.99      0.90      0.94      2947\n",
            "           1       0.10      0.48      0.16        64\n",
            "\n",
            "    accuracy                           0.90      3011\n",
            "   macro avg       0.54      0.69      0.55      3011\n",
            "weighted avg       0.97      0.90      0.93      3011\n",
            "\n"
          ],
          "name": "stdout"
        },
        {
          "output_type": "execute_result",
          "data": {
            "text/plain": [
              "Text(0.5, 1.0, '2-class Precision-Recall curve')"
            ]
          },
          "metadata": {
            "tags": []
          },
          "execution_count": 750
        },
        {
          "output_type": "display_data",
          "data": {
            "image/png": "[encoded data removed]",
            "text/plain": [
              "<Figure size 360x360 with 1 Axes>"
            ]
          },
          "metadata": {
            "tags": []
          }
        }
      ]
    },
    {
      "cell_type": "code",
      "metadata": {
        "id": "a-FUKPUz5J-P",
        "colab_type": "code",
        "colab": {
          "base_uri": "https://localhost:8080/",
          "height": 809
        },
        "outputId": "37523314-a1a4-47d4-e558-28c1342e6c3e"
      },
      "source": [
        "import pandas  as pd \n",
        "import matplotlib.pyplot as plt \n",
        "import numpy as np \n",
        "from sklearn.linear_model import LogisticRegression \n",
        "from sklearn.preprocessing import StandardScaler \n",
        "from sklearn.metrics import confusion_matrix, classification_report \n",
        "\n",
        "x_train, x_test, y_train, y_test = train_test_split(stroke_data_x, stroke_data_y, test_size=0.3, random_state=0, stratify=stroke_data_y)\n",
        "lr1 = LogisticRegression() \n",
        "\n",
        "from imblearn.over_sampling import SMOTE \n",
        "sm = SMOTE(random_state = 2) \n",
        "X_train_res, y_train_res = sm.fit_sample(x_train, y_train) \n",
        "lr1.fit(X_train_res, y_train_res.ravel()) \n",
        "\n",
        "predictions = lr1.predict(x_test) \n",
        "  \n",
        "# print classification report \n",
        "print(classification_report(y_test, predictions))\n",
        "disp = plot_precision_recall_curve(lr1, x_val, y_val)\n",
        "disp.ax_.set_title('2-class Precision-Recall curve')\n",
        "\n",
        "\n",
        "from imblearn.under_sampling import NearMiss \n",
        "nr = NearMiss() \n",
        "X_train_miss, y_train_miss = nr.fit_sample(x_train, y_train) \n",
        "lr2 = LogisticRegression() \n",
        "lr2.fit(X_train_miss, y_train_miss.ravel()) \n",
        "predictions = lr2.predict(x_test) \n",
        "  \n",
        "# print classification report \n",
        "print(classification_report(y_test, predictions))\n",
        "\n",
        "predictions = lr2.predict(x_val) \n",
        "\n",
        "print(classification_report(y_val, predictions))\n",
        "\n"
      ],
      "execution_count": 753,
      "outputs": [
        {
          "output_type": "stream",
          "text": [
            "              precision    recall  f1-score   support\n",
            "\n",
            "           0       0.99      0.74      0.85      7958\n",
            "           1       0.05      0.68      0.10       172\n",
            "\n",
            "    accuracy                           0.74      8130\n",
            "   macro avg       0.52      0.71      0.47      8130\n",
            "weighted avg       0.97      0.74      0.83      8130\n",
            "\n",
            "              precision    recall  f1-score   support\n",
            "\n",
            "           0       0.98      0.45      0.62      7958\n",
            "           1       0.03      0.67      0.05       172\n",
            "\n",
            "    accuracy                           0.45      8130\n",
            "   macro avg       0.50      0.56      0.33      8130\n",
            "weighted avg       0.96      0.45      0.61      8130\n",
            "\n",
            "              precision    recall  f1-score   support\n",
            "\n",
            "           0       0.99      0.46      0.62      2947\n",
            "           1       0.03      0.80      0.06        64\n",
            "\n",
            "    accuracy                           0.46      3011\n",
            "   macro avg       0.51      0.63      0.34      3011\n",
            "weighted avg       0.97      0.46      0.61      3011\n",
            "\n"
          ],
          "name": "stdout"
        },
        {
          "output_type": "display_data",
          "data": {
            "image/png": "[encoded data removed]",
            "text/plain": [
              "<Figure size 360x360 with 1 Axes>"
            ]
          },
          "metadata": {
            "tags": []
          }
        }
      ]
    }
  ]
}