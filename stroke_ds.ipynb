{
  "nbformat": 4,
  "nbformat_minor": 0,
  "metadata": {
    "colab": {
      "name": "stroke_ds.ipynb",
      "provenance": [],
      "collapsed_sections": [],
      "authorship_tag": "ABX9TyOKZxRX1ZvVGgdumyEpGqQF",
      "include_colab_link": true
    },
    "kernelspec": {
      "name": "python3",
      "display_name": "Python 3"
    },
    "accelerator": "GPU"
  },
  "cells": [
    {
      "cell_type": "markdown",
      "metadata": {
        "id": "view-in-github",
        "colab_type": "text"
      },
      "source": [
        "<a href=\"https://colab.research.google.com/github/Manu-Anand/tf_certfication/blob/master/stroke_ds.ipynb\" target=\"_parent\"><img src=\"https://colab.research.google.com/assets/colab-badge.svg\" alt=\"Open In Colab\"/></a>"
      ]
    },
    {
      "cell_type": "code",
      "metadata": {
        "id": "VxeVUZ9iYNac",
        "colab_type": "code",
        "colab": {}
      },
      "source": [
        "#from google.colab import files\n",
        "#uploaded = files.upload()"
      ],
      "execution_count": 0,
      "outputs": []
    },
    {
      "cell_type": "code",
      "metadata": {
        "id": "1ox2yIrLmfOB",
        "colab_type": "code",
        "colab": {}
      },
      "source": [
        "#!pip install scikit-plot"
      ],
      "execution_count": 0,
      "outputs": []
    },
    {
      "cell_type": "code",
      "metadata": {
        "id": "XkDVKkZSQKIi",
        "colab_type": "code",
        "colab": {
          "base_uri": "https://localhost:8080/",
          "height": 34
        },
        "outputId": "ce68af46-4d87-4375-cb91-017b64d9010d"
      },
      "source": [
        "#!pip install mlxtend --upgrade --no-deps\n",
        "import mlxtend                                                          \n",
        "print(mlxtend.__version__) "
      ],
      "execution_count": 159,
      "outputs": [
        {
          "output_type": "stream",
          "text": [
            "0.17.2\n"
          ],
          "name": "stdout"
        }
      ]
    },
    {
      "cell_type": "markdown",
      "metadata": {
        "id": "F26rVtw_78lr",
        "colab_type": "text"
      },
      "source": [
        "**Install Dependancies below. **\n",
        "1. pip install -U imbalanced-learn (For SMOTE related libraries)\n",
        "2. Uses seaborn libraries to plot"
      ]
    },
    {
      "cell_type": "code",
      "metadata": {
        "id": "W0qsgxMiZQ0b",
        "colab_type": "code",
        "colab": {}
      },
      "source": [
        "#imports required libraries\n",
        "import pandas as pd\n",
        "import matplotlib.pyplot as plt\n",
        "import seaborn as sns\n",
        "import folium\n",
        "import plotly.express as px\n",
        "import plotly.graph_objects as go\n",
        "import numpy as np\n",
        "import math \n",
        "from matplotlib import rcParams\n",
        "from matplotlib.cm import rainbow\n",
        "from sklearn.preprocessing import LabelEncoder\n",
        "from sklearn.model_selection import train_test_split\n",
        "from sklearn.ensemble import RandomForestClassifier\n",
        "from sklearn.metrics import confusion_matrix\n",
        "from sklearn.metrics import classification_report\n",
        "from sklearn.metrics import precision_recall_curve\n",
        "from sklearn.metrics import plot_precision_recall_curve\n",
        "import matplotlib.pyplot as pltp\n",
        "from sklearn.metrics import average_precision_score\n",
        "from sklearn.metrics import average_precision_score\n",
        "from imblearn.over_sampling import SMOTE\n",
        "from imblearn.under_sampling import RandomUnderSampler\n",
        "from imblearn.over_sampling import RandomOverSampler\n",
        "from sklearn.manifold import TSNE\n",
        "from sklearn.decomposition import PCA\n",
        "from collections import Counter\n",
        "from imblearn.pipeline import Pipeline\n",
        "import numpy as np\n",
        "from sklearn.feature_selection import SelectKBest\n",
        "from sklearn.feature_selection import chi2\n",
        "from pandas.plotting import parallel_coordinates\n",
        "from sklearn.model_selection import GridSearchCV\n",
        "from sklearn.linear_model import LogisticRegression\n",
        "import scikitplot as skplt\n",
        "from sklearn.metrics import confusion_matrix, precision_recall_curve, auc, roc_auc_score, roc_curve, recall_score, classification_report"
      ],
      "execution_count": 0,
      "outputs": []
    },
    {
      "cell_type": "code",
      "metadata": {
        "id": "tiJ_Jrf3Ozkd",
        "colab_type": "code",
        "colab": {}
      },
      "source": [
        ""
      ],
      "execution_count": 0,
      "outputs": []
    },
    {
      "cell_type": "markdown",
      "metadata": {
        "id": "jiMVUley8s1-",
        "colab_type": "text"
      },
      "source": [
        "Reads training data from csv file"
      ]
    },
    {
      "cell_type": "code",
      "metadata": {
        "id": "3K3reYZWoBU1",
        "colab_type": "code",
        "colab": {}
      },
      "source": [
        "stroke_data = pd.read_csv('train_2v.csv')"
      ],
      "execution_count": 0,
      "outputs": []
    },
    {
      "cell_type": "markdown",
      "metadata": {
        "id": "3NJrFlCf-hsb",
        "colab_type": "text"
      },
      "source": [
        "Describes the dataframe. \n",
        "1. Rows with null values are seen for 'bmi' and 'smoking_status'\n",
        "2. Nulls for bmi has been filled with mean of data\n",
        "3. Nulls/Nans against 'smoking_status' handled by remoning the rows.\n",
        "4. Class count is displayed in plot \n",
        "5. Inference - the data has imbalanced labels - 97% positive classes."
      ]
    },
    {
      "cell_type": "code",
      "metadata": {
        "id": "tXMIYjSd-lNj",
        "colab_type": "code",
        "colab": {
          "base_uri": "https://localhost:8080/",
          "height": 1000
        },
        "outputId": "f5376c56-2629-4ef9-8d8d-d00892fdcb25"
      },
      "source": [
        "stroke_data.describe(include = 'all')\n",
        "# The below code shows there are many null values\n",
        "print('Train columns with null values:\\n', stroke_data.isnull().sum())\n",
        "\n",
        "stroke_data['bmi'].fillna((stroke_data['bmi'].mean()), inplace=True)\n",
        "print('Train columns with bmi values:\\n', stroke_data.isnull().sum())\n",
        "stroke_data = stroke_data.dropna()\n",
        "print('Train n', stroke_data.isnull().sum())\n",
        "class_count = stroke_data.stroke.value_counts()\n",
        "stroke_data = stroke_data.reset_index()\n",
        "print(class_count)\n",
        "# The below code shows that  the data has class imbalance problem\n",
        "# The data is unbalanced\n",
        "rcParams['figure.figsize'] = 5, 5\n",
        "class_count = stroke_data.stroke.value_counts()\n",
        "print('class count', class_count)\n",
        "ax = sns.countplot(x=\"stroke\", data=stroke_data)"
      ],
      "execution_count": 162,
      "outputs": [
        {
          "output_type": "stream",
          "text": [
            "Train columns with null values:\n",
            " id                       0\n",
            "gender                   0\n",
            "age                      0\n",
            "hypertension             0\n",
            "heart_disease            0\n",
            "ever_married             0\n",
            "work_type                0\n",
            "Residence_type           0\n",
            "avg_glucose_level        0\n",
            "bmi                   1462\n",
            "smoking_status       13292\n",
            "stroke                   0\n",
            "dtype: int64\n",
            "Train columns with bmi values:\n",
            " id                       0\n",
            "gender                   0\n",
            "age                      0\n",
            "hypertension             0\n",
            "heart_disease            0\n",
            "ever_married             0\n",
            "work_type                0\n",
            "Residence_type           0\n",
            "avg_glucose_level        0\n",
            "bmi                      0\n",
            "smoking_status       13292\n",
            "stroke                   0\n",
            "dtype: int64\n",
            "Train n id                   0\n",
            "gender               0\n",
            "age                  0\n",
            "hypertension         0\n",
            "heart_disease        0\n",
            "ever_married         0\n",
            "work_type            0\n",
            "Residence_type       0\n",
            "avg_glucose_level    0\n",
            "bmi                  0\n",
            "smoking_status       0\n",
            "stroke               0\n",
            "dtype: int64\n",
            "0    29470\n",
            "1      638\n",
            "Name: stroke, dtype: int64\n",
            "class count 0    29470\n",
            "1      638\n",
            "Name: stroke, dtype: int64\n"
          ],
          "name": "stdout"
        },
        {
          "output_type": "display_data",
          "data": {
            "image/png": "[encoded data removed]",
            "text/plain": [
              "<Figure size 360x360 with 1 Axes>"
            ]
          },
          "metadata": {
            "tags": []
          }
        }
      ]
    },
    {
      "cell_type": "code",
      "metadata": {
        "id": "Z3HPUW0-MjeD",
        "colab_type": "code",
        "colab": {}
      },
      "source": [
        "def label_encoding(data):  \n",
        "  le = LabelEncoder()\n",
        "  le.fit(stroke_data[data])\n",
        "  stroke_data[data] = le.transform(stroke_data[data])\n",
        "    #labels = datavalue['residual_tumor'] # returns only labels exclusing header"
      ],
      "execution_count": 0,
      "outputs": []
    },
    {
      "cell_type": "markdown",
      "metadata": {
        "id": "ZaGV2aRv80qe",
        "colab_type": "text"
      },
      "source": [
        "Trainig data is stored in pandas dataframe - 'stroke_data' and uses LabelEncoder to encode categorical variables."
      ]
    },
    {
      "cell_type": "code",
      "metadata": {
        "id": "Ym1w4Z3YoF-S",
        "colab_type": "code",
        "colab": {
          "base_uri": "https://localhost:8080/",
          "height": 131
        },
        "outputId": "58e67ea4-0f41-48cf-ef07-50c9ed792267"
      },
      "source": [
        "# Smoking status got many Nan Values. So Drops them. Recheck other alternatives\n",
        "stroke_data = stroke_data[stroke_data['smoking_status'].notna()]\n",
        "label_encoding(\"work_type\")\n",
        "label_encoding(\"Residence_type\")\n",
        "label_encoding(\"ever_married\")\n",
        "label_encoding(\"gender\")\n",
        "label_encoding(\"smoking_status\")\n",
        "label_names = [0, 1]\n",
        "stroke_data.head(2)"
      ],
      "execution_count": 164,
      "outputs": [
        {
          "output_type": "execute_result",
          "data": {
            "text/html": [
              "<div>\n",
              "<style scoped>\n",
              "    .dataframe tbody tr th:only-of-type {\n",
              "        vertical-align: middle;\n",
              "    }\n",
              "\n",
              "    .dataframe tbody tr th {\n",
              "        vertical-align: top;\n",
              "    }\n",
              "\n",
              "    .dataframe thead th {\n",
              "        text-align: right;\n",
              "    }\n",
              "</style>\n",
              "<table border=\"1\" class=\"dataframe\">\n",
              "  <thead>\n",
              "    <tr style=\"text-align: right;\">\n",
              "      <th></th>\n",
              "      <th>index</th>\n",
              "      <th>id</th>\n",
              "      <th>gender</th>\n",
              "      <th>age</th>\n",
              "      <th>hypertension</th>\n",
              "      <th>heart_disease</th>\n",
              "      <th>ever_married</th>\n",
              "      <th>work_type</th>\n",
              "      <th>Residence_type</th>\n",
              "      <th>avg_glucose_level</th>\n",
              "      <th>bmi</th>\n",
              "      <th>smoking_status</th>\n",
              "      <th>stroke</th>\n",
              "    </tr>\n",
              "  </thead>\n",
              "  <tbody>\n",
              "    <tr>\n",
              "      <th>0</th>\n",
              "      <td>1</td>\n",
              "      <td>30468</td>\n",
              "      <td>1</td>\n",
              "      <td>58.0</td>\n",
              "      <td>1</td>\n",
              "      <td>0</td>\n",
              "      <td>1</td>\n",
              "      <td>2</td>\n",
              "      <td>1</td>\n",
              "      <td>87.96</td>\n",
              "      <td>39.2</td>\n",
              "      <td>1</td>\n",
              "      <td>0</td>\n",
              "    </tr>\n",
              "    <tr>\n",
              "      <th>1</th>\n",
              "      <td>3</td>\n",
              "      <td>56543</td>\n",
              "      <td>0</td>\n",
              "      <td>70.0</td>\n",
              "      <td>0</td>\n",
              "      <td>0</td>\n",
              "      <td>1</td>\n",
              "      <td>2</td>\n",
              "      <td>0</td>\n",
              "      <td>69.04</td>\n",
              "      <td>35.9</td>\n",
              "      <td>0</td>\n",
              "      <td>0</td>\n",
              "    </tr>\n",
              "  </tbody>\n",
              "</table>\n",
              "</div>"
            ],
            "text/plain": [
              "   index     id  gender   age  ...  avg_glucose_level   bmi  smoking_status  stroke\n",
              "0      1  30468       1  58.0  ...              87.96  39.2               1       0\n",
              "1      3  56543       0  70.0  ...              69.04  35.9               0       0\n",
              "\n",
              "[2 rows x 13 columns]"
            ]
          },
          "metadata": {
            "tags": []
          },
          "execution_count": 164
        }
      ]
    },
    {
      "cell_type": "markdown",
      "metadata": {
        "id": "A3wukXxE9DFK",
        "colab_type": "text"
      },
      "source": [
        "1. Split the data as features and Labels (X and y)\n",
        "2. Normalize the data "
      ]
    },
    {
      "cell_type": "code",
      "metadata": {
        "id": "SpzFVKmErinK",
        "colab_type": "code",
        "colab": {
          "base_uri": "https://localhost:8080/",
          "height": 85
        },
        "outputId": "6b75cfed-30ea-4773-dd03-fa46c8b7866d"
      },
      "source": [
        "stroke_data_x = stroke_data.drop('stroke', axis=1)\n",
        "stroke_data_y = stroke_data['stroke']\n",
        "print(stroke_data_y.value_counts())\n",
        "#Normalize the data\n",
        "stroke_data_x = (stroke_data_x - stroke_data_x.min())/(stroke_data_x.max() - stroke_data_x.min())\n",
        "stroke_data_x.drop(['work_type','Residence_type'], axis=1, inplace=True)\n",
        "#print(stroke_data_x)\n",
        "# Remove below line of code if you dont need val dataset\n",
        "stroke_data_x, x_val, stroke_data_y, y_val = train_test_split(stroke_data_x, stroke_data_y, test_size=0.1, random_state=0, stratify=stroke_data_y)\n",
        "print(stroke_data_x.shape)"
      ],
      "execution_count": 165,
      "outputs": [
        {
          "output_type": "stream",
          "text": [
            "0    29470\n",
            "1      638\n",
            "Name: stroke, dtype: int64\n",
            "(27097, 10)\n"
          ],
          "name": "stdout"
        }
      ]
    },
    {
      "cell_type": "markdown",
      "metadata": {
        "id": "SZP-fg4CAf3h",
        "colab_type": "text"
      },
      "source": [
        "1. Define a Random Forest classifier in a method"
      ]
    },
    {
      "cell_type": "code",
      "metadata": {
        "id": "_NRM9NPL8W_8",
        "colab_type": "code",
        "colab": {}
      },
      "source": [
        "def classify_RandomForestClassifier(estimators, x_train, y_train): \n",
        "  rf_classifier = RandomForestClassifier(n_estimators = estimators, random_state = 0)\n",
        "  rf_classifier.fit(x_train, y_train)\n",
        "  return rf_classifier"
      ],
      "execution_count": 0,
      "outputs": []
    },
    {
      "cell_type": "markdown",
      "metadata": {
        "id": "8T1OSeuZ1XC7",
        "colab_type": "text"
      },
      "source": [
        "Defines method to display auc curve"
      ]
    },
    {
      "cell_type": "code",
      "metadata": {
        "id": "6v3r8IadxSJO",
        "colab_type": "code",
        "colab": {}
      },
      "source": [
        "def auc_curve(y_test, y_test_pred):\n",
        "  #cnf_matrix_tra = confusion_matrix(y_test, y_test_pred)\n",
        "  class_names = [0,1]\n",
        "  plt.figure()\n",
        "  #disp = plot_confusion_matrix(y_test, y_test, display_labels=class_names)\n",
        "  skplt.metrics.plot_confusion_matrix(y_test, y_test_pred, normalize=False)\n",
        "  #disp.ax_.set_title('Confusion matrix')\n",
        "  plt.show()\n",
        "  fpr, tpr, thresholds = roc_curve(y_test, y_test_pred)\n",
        "  roc_auc = auc(fpr,tpr)\n",
        "\n",
        "  # Plot ROC\n",
        "  plt.title('Receiver Operating Characteristic')\n",
        "  plt.plot(fpr, tpr, 'b',label='AUC = %0.3f'% roc_auc)\n",
        "  plt.legend(loc='lower right')\n",
        "  plt.plot([0,1],[0,1],'r--')\n",
        "  plt.xlim([-0.1,1.0])\n",
        "  plt.ylim([-0.1,1.01])\n",
        "  plt.ylabel('True Positive Rate')\n",
        "  plt.xlabel('False Positive Rate')\n",
        "  plt.show()"
      ],
      "execution_count": 0,
      "outputs": []
    },
    {
      "cell_type": "markdown",
      "metadata": {
        "id": "Zs_GNtBGdbtc",
        "colab_type": "text"
      },
      "source": [
        "1. Displayes correlation amongs features\n",
        "2. Inference - There is no correlation except for age and ever_married(approx0.4)"
      ]
    },
    {
      "cell_type": "code",
      "metadata": {
        "id": "4mCF6X_losGv",
        "colab_type": "code",
        "outputId": "d08260b8-63df-40de-cf4a-93cf35c1a4f2",
        "colab": {
          "base_uri": "https://localhost:8080/",
          "height": 610
        }
      },
      "source": [
        "# Displays correlation metrics\n",
        "# Inference - Age and marriage has some correlation. All other fileds shows very less correlation\n",
        "rcParams['figure.figsize'] = 10, 10\n",
        "plt.matshow(stroke_data.corr())\n",
        "plt.yticks(np.arange(stroke_data.shape[1]), stroke_data.columns)\n",
        "plt.xticks(np.arange(stroke_data.shape[1]), stroke_data.columns)\n",
        "plt.colorbar()"
      ],
      "execution_count": 168,
      "outputs": [
        {
          "output_type": "execute_result",
          "data": {
            "text/plain": [
              "<matplotlib.colorbar.Colorbar at 0x7f88bdcb60b8>"
            ]
          },
          "metadata": {
            "tags": []
          },
          "execution_count": 168
        },
        {
          "output_type": "display_data",
          "data": {
            "image/png": "[encoded data removed]",
            "text/plain": [
              "<Figure size 720x720 with 2 Axes>"
            ]
          },
          "metadata": {
            "tags": []
          }
        }
      ]
    },
    {
      "cell_type": "markdown",
      "metadata": {
        "id": "AeQv0k_zA48j",
        "colab_type": "text"
      },
      "source": [
        "1. Displays a count plot of 'bmi' against stoke class"
      ]
    },
    {
      "cell_type": "code",
      "metadata": {
        "id": "IMPTgYranEig",
        "colab_type": "code",
        "outputId": "1128a751-9f6e-4eed-dc18-35654a446db2",
        "colab": {
          "base_uri": "https://localhost:8080/",
          "height": 334
        }
      },
      "source": [
        "\n",
        "rcParams['figure.figsize'] = 5, 5\n",
        "ax = sns.countplot(x=\"bmi\", data=stroke_data, hue=\"stroke\")\n"
      ],
      "execution_count": 169,
      "outputs": [
        {
          "output_type": "display_data",
          "data": {
            "image/png": "[encoded data removed]",
            "text/plain": [
              "<Figure size 360x360 with 1 Axes>"
            ]
          },
          "metadata": {
            "tags": []
          }
        }
      ]
    },
    {
      "cell_type": "markdown",
      "metadata": {
        "id": "5vYphtvj1Bj-",
        "colab_type": "text"
      },
      "source": [
        "Below code find out best features"
      ]
    },
    {
      "cell_type": "code",
      "metadata": {
        "id": "Ok3ozF1Rk7ya",
        "colab_type": "code",
        "colab": {}
      },
      "source": [
        "def best_features():\n",
        "  bestfeatures = SelectKBest(score_func=chi2, k=7)\n",
        "  fit = bestfeatures.fit(stroke_data_x,stroke_data_y)\n",
        "  scores = pd.DataFrame(fit.scores_)\n",
        "  columns = pd.DataFrame(fit.columns)\n",
        "  #concat two dataframes for better visualization \n",
        "  featureScores = pd.concat([columns,scores],axis=1)\n",
        "  featureScores.columns = ['Specs','Score']  #naming the dataframe columns\n",
        "  print(featureScores.nlargest(10,'Score'))  #print 10 best features"
      ],
      "execution_count": 0,
      "outputs": []
    },
    {
      "cell_type": "markdown",
      "metadata": {
        "id": "L5Waeg6c1Gok",
        "colab_type": "text"
      },
      "source": [
        "Below Code splits the data into train and test\n"
      ]
    },
    {
      "cell_type": "code",
      "metadata": {
        "id": "l0ICpBOtierO",
        "colab_type": "code",
        "colab": {
          "base_uri": "https://localhost:8080/",
          "height": 119
        },
        "outputId": "38d33446-b855-4a6c-afb9-bc87676b46cf"
      },
      "source": [
        "# Split the data into predictors and target\n",
        "#best_features()\n",
        "x_train, x_test, y_train, y_test = train_test_split(stroke_data_x, stroke_data_y, test_size=0.2, random_state=0, stratify=stroke_data_y)\n",
        "#x_test_not_used,x_val,y_test_not_used,y_val = train_test_split(x_test, y_test, test_size=0.9, random_state=0, stratify=y_test)\n",
        "class_count = y_train.value_counts()\n",
        "print('Class Count : Train Data:   ',class_count)\n",
        "class_count = y_test.value_counts()\n",
        "print('Class Count : Test Data:   ',class_count)"
      ],
      "execution_count": 171,
      "outputs": [
        {
          "output_type": "stream",
          "text": [
            "Class Count : Train Data:    0    21218\n",
            "1      459\n",
            "Name: stroke, dtype: int64\n",
            "Class Count : Test Data:    0    5305\n",
            "1     115\n",
            "Name: stroke, dtype: int64\n"
          ],
          "name": "stdout"
        }
      ]
    },
    {
      "cell_type": "markdown",
      "metadata": {
        "id": "IcshNfly12HS",
        "colab_type": "text"
      },
      "source": [
        "Calling Random Forest Classifier\n",
        "1. Inference : Random Forest fails to classify Positive Classes."
      ]
    },
    {
      "cell_type": "code",
      "metadata": {
        "id": "2BiymN6N8M2b",
        "colab_type": "code",
        "colab": {
          "base_uri": "https://localhost:8080/",
          "height": 900
        },
        "outputId": "0c443c92-61ee-4569-b825-7c54e6d4d956"
      },
      "source": [
        "# Invoke RF Classifier\n",
        "estimators = 100\n",
        "rf_classifier = classify_RandomForestClassifier(estimators, x_train, y_train)\n",
        "##print(rf_classifier.score(x_test, y_test))\n",
        "y_test_pred = rf_classifier.predict(x_test)\n",
        "cm = confusion_matrix(y_test, y_test_pred)\n",
        "#print('Confusion Matrics: ', cm)\n",
        "print('Classification Report', classification_report(y_test, y_test_pred))\n",
        "auc_curve(y_test, y_test_pred)"
      ],
      "execution_count": 172,
      "outputs": [
        {
          "output_type": "stream",
          "text": [
            "Classification Report               precision    recall  f1-score   support\n",
            "\n",
            "           0       0.98      1.00      0.99      5305\n",
            "           1       0.00      0.00      0.00       115\n",
            "\n",
            "    accuracy                           0.98      5420\n",
            "   macro avg       0.49      0.50      0.49      5420\n",
            "weighted avg       0.96      0.98      0.97      5420\n",
            "\n"
          ],
          "name": "stdout"
        },
        {
          "output_type": "stream",
          "text": [
            "/usr/local/lib/python3.6/dist-packages/sklearn/metrics/_classification.py:1272: UndefinedMetricWarning:\n",
            "\n",
            "Precision and F-score are ill-defined and being set to 0.0 in labels with no predicted samples. Use `zero_division` parameter to control this behavior.\n",
            "\n"
          ],
          "name": "stderr"
        },
        {
          "output_type": "display_data",
          "data": {
            "text/plain": [
              "<Figure size 360x360 with 0 Axes>"
            ]
          },
          "metadata": {
            "tags": []
          }
        },
        {
          "output_type": "display_data",
          "data": {
            "image/png": "[encoded data removed]",
            "text/plain": [
              "<Figure size 360x360 with 2 Axes>"
            ]
          },
          "metadata": {
            "tags": []
          }
        },
        {
          "output_type": "display_data",
          "data": {
            "image/png": "[encoded data removed]",
            "text/plain": [
              "<Figure size 360x360 with 1 Axes>"
            ]
          },
          "metadata": {
            "tags": []
          }
        }
      ]
    },
    {
      "cell_type": "markdown",
      "metadata": {
        "id": "k3PF4b9c27Ba",
        "colab_type": "text"
      },
      "source": [
        "In the below Code, the following applied:\n",
        "1. SMOTE method is used to oversample minor classe and undersample major class\n",
        "2. Inference : Precision recall curve and AUC curve shows better"
      ]
    },
    {
      "cell_type": "code",
      "metadata": {
        "id": "DkzmkSltX1xz",
        "colab_type": "code",
        "colab": {
          "base_uri": "https://localhost:8080/",
          "height": 1000
        },
        "outputId": "2c0c8551-8623-4833-dc25-47f58fa76835"
      },
      "source": [
        "\n",
        "#Oversmaple the minority class 10% of major class\n",
        "over_sample = SMOTE(sampling_strategy=0.1, random_state=0)\n",
        "# Undersample the majority class 50% \n",
        "under_sample = RandomUnderSampler(sampling_strategy=0.5, random_state=0)\n",
        "steps = [('o', over_sample), ('u', under_sample)]\n",
        "# Add this to pipeline\n",
        "pipeline = Pipeline(steps=steps)\n",
        "#x_train, y_train = pipeline.fit_resample(x_train, y_train)\n",
        "estimators = 50\n",
        "from imblearn.ensemble import EasyEnsembleClassifier\n",
        "rf_classifier = EasyEnsembleClassifier(n_estimators=10)\n",
        "rf_classifier.fit(x_train,y_train)\n",
        "# Evaluate against Test data\n",
        "print(rf_classifier.score(x_test, y_test))\n",
        "y_test_pred = rf_classifier.predict(x_test)\n",
        "cm = confusion_matrix(y_test, y_test_pred)\n",
        "print('Confusion Matrics: ', cm)\n",
        "print('Classification Report', classification_report(y_test, y_test_pred))\n",
        "auc_curve(y_test,y_test_pred)\n",
        "# Evaluate against Val data\n",
        "print(rf_classifier.score(x_val, y_val))\n",
        "y_val_pred = rf_classifier.predict(x_val)\n",
        "cm = confusion_matrix(y_val, y_val_pred)\n",
        "print('Confusion Matrics For VALIDATION DATA SET: ', cm)\n",
        "print('Classification Report - VALIDATION DS', classification_report(y_val, y_val_pred))\n",
        "auc_curve(y_val,y_val_pred)"
      ],
      "execution_count": 173,
      "outputs": [
        {
          "output_type": "stream",
          "text": [
            "/usr/local/lib/python3.6/dist-packages/sklearn/utils/deprecation.py:87: FutureWarning:\n",
            "\n",
            "Function safe_indexing is deprecated; safe_indexing is deprecated in version 0.22 and will be removed in version 0.24.\n",
            "\n",
            "/usr/local/lib/python3.6/dist-packages/sklearn/utils/deprecation.py:87: FutureWarning:\n",
            "\n",
            "Function safe_indexing is deprecated; safe_indexing is deprecated in version 0.22 and will be removed in version 0.24.\n",
            "\n",
            "/usr/local/lib/python3.6/dist-packages/sklearn/utils/deprecation.py:87: FutureWarning:\n",
            "\n",
            "Function safe_indexing is deprecated; safe_indexing is deprecated in version 0.22 and will be removed in version 0.24.\n",
            "\n",
            "/usr/local/lib/python3.6/dist-packages/sklearn/utils/deprecation.py:87: FutureWarning:\n",
            "\n",
            "Function safe_indexing is deprecated; safe_indexing is deprecated in version 0.22 and will be removed in version 0.24.\n",
            "\n",
            "/usr/local/lib/python3.6/dist-packages/sklearn/utils/deprecation.py:87: FutureWarning:\n",
            "\n",
            "Function safe_indexing is deprecated; safe_indexing is deprecated in version 0.22 and will be removed in version 0.24.\n",
            "\n",
            "/usr/local/lib/python3.6/dist-packages/sklearn/utils/deprecation.py:87: FutureWarning:\n",
            "\n",
            "Function safe_indexing is deprecated; safe_indexing is deprecated in version 0.22 and will be removed in version 0.24.\n",
            "\n",
            "/usr/local/lib/python3.6/dist-packages/sklearn/utils/deprecation.py:87: FutureWarning:\n",
            "\n",
            "Function safe_indexing is deprecated; safe_indexing is deprecated in version 0.22 and will be removed in version 0.24.\n",
            "\n",
            "/usr/local/lib/python3.6/dist-packages/sklearn/utils/deprecation.py:87: FutureWarning:\n",
            "\n",
            "Function safe_indexing is deprecated; safe_indexing is deprecated in version 0.22 and will be removed in version 0.24.\n",
            "\n",
            "/usr/local/lib/python3.6/dist-packages/sklearn/utils/deprecation.py:87: FutureWarning:\n",
            "\n",
            "Function safe_indexing is deprecated; safe_indexing is deprecated in version 0.22 and will be removed in version 0.24.\n",
            "\n",
            "/usr/local/lib/python3.6/dist-packages/sklearn/utils/deprecation.py:87: FutureWarning:\n",
            "\n",
            "Function safe_indexing is deprecated; safe_indexing is deprecated in version 0.22 and will be removed in version 0.24.\n",
            "\n"
          ],
          "name": "stderr"
        },
        {
          "output_type": "stream",
          "text": [
            "0.6867158671586716\n",
            "Confusion Matrics:  [[3640 1665]\n",
            " [  33   82]]\n",
            "Classification Report               precision    recall  f1-score   support\n",
            "\n",
            "           0       0.99      0.69      0.81      5305\n",
            "           1       0.05      0.71      0.09       115\n",
            "\n",
            "    accuracy                           0.69      5420\n",
            "   macro avg       0.52      0.70      0.45      5420\n",
            "weighted avg       0.97      0.69      0.80      5420\n",
            "\n"
          ],
          "name": "stdout"
        },
        {
          "output_type": "display_data",
          "data": {
            "text/plain": [
              "<Figure size 360x360 with 0 Axes>"
            ]
          },
          "metadata": {
            "tags": []
          }
        },
        {
          "output_type": "display_data",
          "data": {
            "image/png": "[encoded data removed]",
            "text/plain": [
              "<Figure size 360x360 with 2 Axes>"
            ]
          },
          "metadata": {
            "tags": []
          }
        },
        {
          "output_type": "display_data",
          "data": {
            "image/png": "[encoded data removed]",
            "text/plain": [
              "<Figure size 360x360 with 1 Axes>"
            ]
          },
          "metadata": {
            "tags": []
          }
        },
        {
          "output_type": "stream",
          "text": [
            "0.6884755895051478\n",
            "Confusion Matrics For VALIDATION DATA SET:  [[2020  927]\n",
            " [  11   53]]\n",
            "Classification Report - VALIDATION DS               precision    recall  f1-score   support\n",
            "\n",
            "           0       0.99      0.69      0.81      2947\n",
            "           1       0.05      0.83      0.10        64\n",
            "\n",
            "    accuracy                           0.69      3011\n",
            "   macro avg       0.52      0.76      0.46      3011\n",
            "weighted avg       0.97      0.69      0.80      3011\n",
            "\n"
          ],
          "name": "stdout"
        },
        {
          "output_type": "display_data",
          "data": {
            "text/plain": [
              "<Figure size 360x360 with 0 Axes>"
            ]
          },
          "metadata": {
            "tags": []
          }
        },
        {
          "output_type": "display_data",
          "data": {
            "image/png": "[encoded data removed]",
            "text/plain": [
              "<Figure size 360x360 with 2 Axes>"
            ]
          },
          "metadata": {
            "tags": []
          }
        },
        {
          "output_type": "display_data",
          "data": {
            "image/png": "[encoded data removed]",
            "text/plain": [
              "<Figure size 360x360 with 1 Axes>"
            ]
          },
          "metadata": {
            "tags": []
          }
        }
      ]
    },
    {
      "cell_type": "markdown",
      "metadata": {
        "id": "Y3jq5Dta3UMf",
        "colab_type": "text"
      },
      "source": [
        "Train a Logistic Regression classifier to compare"
      ]
    },
    {
      "cell_type": "code",
      "metadata": {
        "id": "a-FUKPUz5J-P",
        "colab_type": "code",
        "colab": {
          "base_uri": "https://localhost:8080/",
          "height": 374
        },
        "outputId": "74393833-e3cf-4e4f-a729-3fbd0d3afb85"
      },
      "source": [
        "\n",
        "x_train, x_test, y_train, y_test = train_test_split(stroke_data_x, stroke_data_y, test_size=0.3, random_state=0, stratify=stroke_data_y)\n",
        "lr1 = LogisticRegression() \n",
        "sm = SMOTE(random_state=2)\n",
        "X_train_res, y_train_res = sm.fit_sample(x_train, y_train.ravel())\n",
        "parameters = {\n",
        "    'C': np.linspace(1, 10, 10)\n",
        "             }\n",
        "lr = LogisticRegression()\n",
        "clf = GridSearchCV(lr, parameters, cv=5, verbose=5, n_jobs=3)\n",
        "clf.fit(X_train_res, y_train_res.ravel())\n"
      ],
      "execution_count": 174,
      "outputs": [
        {
          "output_type": "stream",
          "text": [
            "/usr/local/lib/python3.6/dist-packages/sklearn/utils/deprecation.py:87: FutureWarning:\n",
            "\n",
            "Function safe_indexing is deprecated; safe_indexing is deprecated in version 0.22 and will be removed in version 0.24.\n",
            "\n",
            "[Parallel(n_jobs=3)]: Using backend LokyBackend with 3 concurrent workers.\n"
          ],
          "name": "stderr"
        },
        {
          "output_type": "stream",
          "text": [
            "Fitting 5 folds for each of 10 candidates, totalling 50 fits\n"
          ],
          "name": "stdout"
        },
        {
          "output_type": "stream",
          "text": [
            "[Parallel(n_jobs=3)]: Done  18 tasks      | elapsed:    1.2s\n",
            "[Parallel(n_jobs=3)]: Done  50 out of  50 | elapsed:    3.1s finished\n"
          ],
          "name": "stderr"
        },
        {
          "output_type": "execute_result",
          "data": {
            "text/plain": [
              "GridSearchCV(cv=5, error_score=nan,\n",
              "             estimator=LogisticRegression(C=1.0, class_weight=None, dual=False,\n",
              "                                          fit_intercept=True,\n",
              "                                          intercept_scaling=1, l1_ratio=None,\n",
              "                                          max_iter=100, multi_class='auto',\n",
              "                                          n_jobs=None, penalty='l2',\n",
              "                                          random_state=None, solver='lbfgs',\n",
              "                                          tol=0.0001, verbose=0,\n",
              "                                          warm_start=False),\n",
              "             iid='deprecated', n_jobs=3,\n",
              "             param_grid={'C': array([ 1.,  2.,  3.,  4.,  5.,  6.,  7.,  8.,  9., 10.])},\n",
              "             pre_dispatch='2*n_jobs', refit=True, return_train_score=False,\n",
              "             scoring=None, verbose=5)"
            ]
          },
          "metadata": {
            "tags": []
          },
          "execution_count": 174
        }
      ]
    },
    {
      "cell_type": "code",
      "metadata": {
        "id": "ECkWdpRhtDXu",
        "colab_type": "code",
        "colab": {
          "base_uri": "https://localhost:8080/",
          "height": 68
        },
        "outputId": "1ce364ed-c2b1-44cf-d17d-d0cc7514096d"
      },
      "source": [
        "clf.best_params_\n",
        "lr1 = LogisticRegression(C=4,penalty='l2', verbose=5)\n",
        "lr1.fit(X_train_res, y_train_res.ravel())\n",
        "y_test_pred = lr1.predict(x_test)\n",
        "cm = confusion_matrix(y_test, y_test_pred)\n"
      ],
      "execution_count": 175,
      "outputs": [
        {
          "output_type": "stream",
          "text": [
            "[Parallel(n_jobs=1)]: Using backend SequentialBackend with 1 concurrent workers.\n",
            "[Parallel(n_jobs=1)]: Done   1 out of   1 | elapsed:    0.2s remaining:    0.0s\n",
            "[Parallel(n_jobs=1)]: Done   1 out of   1 | elapsed:    0.2s finished\n"
          ],
          "name": "stderr"
        }
      ]
    },
    {
      "cell_type": "code",
      "metadata": {
        "id": "b1NR9pDvttRB",
        "colab_type": "code",
        "colab": {
          "base_uri": "https://localhost:8080/",
          "height": 659
        },
        "outputId": "5a645719-6239-4357-8543-0bbeea5b1f4e"
      },
      "source": [
        "auc_curve(y_test,y_test_pred)"
      ],
      "execution_count": 176,
      "outputs": [
        {
          "output_type": "display_data",
          "data": {
            "text/plain": [
              "<Figure size 360x360 with 0 Axes>"
            ]
          },
          "metadata": {
            "tags": []
          }
        },
        {
          "output_type": "display_data",
          "data": {
            "image/png": "[encoded data removed]",
            "text/plain": [
              "<Figure size 360x360 with 2 Axes>"
            ]
          },
          "metadata": {
            "tags": []
          }
        },
        {
          "output_type": "display_data",
          "data": {
            "image/png": "[encoded data removed]",
            "text/plain": [
              "<Figure size 360x360 with 1 Axes>"
            ]
          },
          "metadata": {
            "tags": []
          }
        }
      ]
    }
  ]
}