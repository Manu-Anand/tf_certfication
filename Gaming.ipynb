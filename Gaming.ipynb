{
  "nbformat": 4,
  "nbformat_minor": 0,
  "metadata": {
    "colab": {
      "name": "Gaming.ipynb",
      "provenance": [],
      "collapsed_sections": [],
      "authorship_tag": "ABX9TyN12ZGJ381P8F1IN2lMgoov",
      "include_colab_link": true
    },
    "kernelspec": {
      "name": "python3",
      "display_name": "Python 3"
    }
  },
  "cells": [
    {
      "cell_type": "markdown",
      "metadata": {
        "id": "view-in-github",
        "colab_type": "text"
      },
      "source": [
        "<a href=\"https://colab.research.google.com/github/Manu-Anand/tf_certfication/blob/master/Gaming.ipynb\" target=\"_parent\"><img src=\"https://colab.research.google.com/assets/colab-badge.svg\" alt=\"Open In Colab\"/></a>"
      ]
    },
    {
      "cell_type": "code",
      "metadata": {
        "id": "QrHfY3jJmzqd",
        "colab_type": "code",
        "colab": {
          "base_uri": "https://localhost:8080/",
          "height": 272
        },
        "outputId": "5a5d318a-08f6-42bc-981f-96e657219669"
      },
      "source": [
        "import sys\n",
        "import unittest\n",
        "\n",
        "# Unittest Class definition\n",
        "class MyTest(unittest.TestCase):\n",
        "    #Unit test cases to check different conditions       \n",
        "    def test_one(self):\n",
        "        # Test case, expected output is 6\n",
        "        data_vec = [0,0,1,1,1,1,1,1,0,0,1,1,1,0,0]\n",
        "        counter_ins = cons_counter()       \n",
        "        self.assertEqual(counter_ins.findMaxCount(data_vec), (6))\n",
        "    def test_two(self):\n",
        "        # Test case, expected output is 0 since input vectr has only values as 0\n",
        "        data_vec = [0,0,0]\n",
        "        counter_ins = cons_counter()       \n",
        "        self.assertEqual(counter_ins.findMaxCount(data_vec), (0))\n",
        "    def test_three(self):\n",
        "        # Test case, expected output is 1\n",
        "        data_vec = [0,0,1]\n",
        "        counter_ins = cons_counter()       \n",
        "        self.assertEqual(counter_ins.findMaxCount(data_vec), (1))\n",
        "    def test_four(self):\n",
        "        # Test case, expected output is 0 since input vector is empty\n",
        "        data_vec = []\n",
        "        counter_ins = cons_counter()       \n",
        "        self.assertEqual(counter_ins.findMaxCount(data_vec), (0))  \n",
        "    def test_five(self):\n",
        "        # Test case, expected output is 1. the input vector has entry >1\n",
        "        data_vec = [1,0,1,12]\n",
        "        counter_ins = cons_counter()       \n",
        "        self.assertEqual(counter_ins.findMaxCount(data_vec), (1))\n",
        "    def test_six(self):\n",
        "        # Test case, expected output is 2. the input vector has string entry and that will be ignored\n",
        "        data_vec = [1,0,1,1,'p']\n",
        "        counter_ins = cons_counter()       \n",
        "        self.assertEqual(counter_ins.findMaxCount(data_vec), (2))\n",
        "    def test_seven(self):\n",
        "        # Test case, expected output is 2. the input vector has an entry <1\n",
        "        data_vec = [1,0,1,1,-1]\n",
        "        counter_ins = cons_counter()       \n",
        "        self.assertEqual(counter_ins.findMaxCount(data_vec), (2))\n",
        "    \n",
        "# Unit test case execution\n",
        "unittest.main(argv=[''], verbosity=2, exit=False)\n",
        "\n",
        "class cons_counter:     \n",
        "    '''  \n",
        "    :Desc: This function retruns the no of max count of consecutive one's as integer when a vector array of 0s and 1s given\n",
        "           The function also takes care if the vector has entries like -1, >1 values or string data and ignores them.\n",
        "    :param data_vec: vector containing 0's and 1's\n",
        "    :return: no of consecutive ones as integer(>0), 0 if no 1's available, -1 if an exception occured\n",
        "    ''' \n",
        "    def findMaxCount(self, data_vec): \n",
        "        try:\n",
        "            n = len(data_vec) \n",
        "            if n == 0:\n",
        "              return 0 \n",
        "            count = 0     \n",
        "            # initialize max \n",
        "            max_count = 0      \n",
        "            for index in range(0, n):          \n",
        "                # Reset count to 0 when a '0 is found \n",
        "                #value = int(data_vec[index])\n",
        "                value = data_vec[index]\n",
        "                if not isinstance(value, int):\n",
        "                    continue\n",
        "                if (value == 0 or value > 1 or value < 0): \n",
        "                    count = 0\n",
        "                # If a 1 is found, increment count   \n",
        "                else: \n",
        "                    count+= 1 \n",
        "                    max_count = max(max_count, count)                   \n",
        "            return max_count  \n",
        "        except ValueError:\n",
        "            print(\"Oops!\", sys.exc_info()[0], \"occurred. Please check the input is integer only. Ignoring it anyway!\")\n",
        "            return -1\n",
        "        except:\n",
        "            print(\"Oops!\", sys.exc_info()[0], \"occurred.\")\n",
        "            return -1\n",
        "# Main function.\n",
        "# To run the program , modify the data_vec below and run the program\n",
        "if __name__=='__main__': \n",
        "\n",
        "    # create instance of class counter \n",
        "    counter_ins = cons_counter()\n",
        "    # Define vector with data\n",
        "    data_vec = [1,0,1,1,1,1,0,1,0]   \n",
        "    # Invoke the function to find the maximum of 1s\n",
        "    count = counter_ins.findMaxCount(data_vec)\n",
        "    # Check if exception occured, otherwise print the result\n",
        "    if count == -1:\n",
        "      print('Exception Occured. Please check the input vector')\n",
        "    elif count == 0:\n",
        "      print('Ones not avalibale in the series')\n",
        "    else:\n",
        "      print('\\n\\nMax no of consecutive ones avalibale in the series is:  ', count)"
      ],
      "execution_count": 4,
      "outputs": [
        {
          "output_type": "stream",
          "text": [
            "test_five (__main__.MyTest) ... ok\n",
            "test_four (__main__.MyTest) ... ok\n",
            "test_one (__main__.MyTest) ... ok\n",
            "test_seven (__main__.MyTest) ... ok\n",
            "test_six (__main__.MyTest) ... ok\n",
            "test_three (__main__.MyTest) ... ok\n",
            "test_two (__main__.MyTest) ... "
          ],
          "name": "stderr"
        },
        {
          "output_type": "stream",
          "text": [
            "\n",
            "\n",
            "Max no of consecutive ones avalibale in the series is:   4\n"
          ],
          "name": "stdout"
        },
        {
          "output_type": "stream",
          "text": [
            "ok\n",
            "\n",
            "----------------------------------------------------------------------\n",
            "Ran 7 tests in 0.005s\n",
            "\n",
            "OK\n"
          ],
          "name": "stderr"
        }
      ]
    },
    {
      "cell_type": "code",
      "metadata": {
        "id": "iVb_cqo6m3W5",
        "colab_type": "code",
        "colab": {}
      },
      "source": [
        ""
      ],
      "execution_count": null,
      "outputs": []
    }
  ]
}