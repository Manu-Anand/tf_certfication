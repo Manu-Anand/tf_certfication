{
  "nbformat": 4,
  "nbformat_minor": 0,
  "metadata": {
    "colab": {
      "name": "10be_reg_express.ipynb",
      "provenance": [],
      "collapsed_sections": [],
      "authorship_tag": "ABX9TyPcCb1/koeZBOID3IeF2wEO",
      "include_colab_link": true
    },
    "kernelspec": {
      "name": "python3",
      "display_name": "Python 3"
    },
    "language_info": {
      "name": "python"
    }
  },
  "cells": [
    {
      "cell_type": "markdown",
      "metadata": {
        "id": "view-in-github",
        "colab_type": "text"
      },
      "source": [
        "<a href=\"https://colab.research.google.com/github/Manu-Anand/tf_certfication/blob/master/10be_reg_express.ipynb\" target=\"_parent\"><img src=\"https://colab.research.google.com/assets/colab-badge.svg\" alt=\"Open In Colab\"/></a>"
      ]
    },
    {
      "cell_type": "code",
      "metadata": {
        "colab": {
          "base_uri": "https://localhost:8080/"
        },
        "id": "90UCeuSINocn",
        "outputId": "aa1468a4-3229-4470-ec95-34ac38529c5b"
      },
      "source": [
        "import re\n",
        "s = 'ytuo4oo789'\n",
        "if re.search('123', s):\n",
        "  print('Found a match.')\n",
        "else:\n",
        "  print('No match.')\n",
        "match = re.search('123', s)\n",
        "# Prints the match index start and end\n",
        "if match:\n",
        "  print(match.span())\n"
      ],
      "execution_count": 14,
      "outputs": [
        {
          "output_type": "stream",
          "text": [
            "No match.\n"
          ],
          "name": "stdout"
        }
      ]
    },
    {
      "cell_type": "code",
      "metadata": {
        "colab": {
          "base_uri": "https://localhost:8080/"
        },
        "id": "gcBpTqhcOdwL",
        "outputId": "519c6c30-d797-423d-9389-5893ffa3f658"
      },
      "source": [
        "# In a regex, a set of characters specified in square brackets ([]) makes up a character class.\n",
        "# Below can recognize any consequetive digits upto 3 occurances\n",
        "m = re.search('[0-9][0-9][0-9]', s)\n",
        "print(m.span())"
      ],
      "execution_count": 15,
      "outputs": [
        {
          "output_type": "stream",
          "text": [
            "(7, 10)\n"
          ],
          "name": "stdout"
        }
      ]
    },
    {
      "cell_type": "code",
      "metadata": {
        "id": "zZz_MkfpPd-j"
      },
      "source": [
        "# . is special. he dot (.) metacharacter matches any character except a newline, so it functions like a wildcard:\n",
        "s = 'oppoo7.9'\n",
        "d = re.search('789', s)\n",
        "#print(d.span())\n"
      ],
      "execution_count": 25,
      "outputs": []
    },
    {
      "cell_type": "code",
      "metadata": {
        "colab": {
          "base_uri": "https://localhost:8080/"
        },
        "id": "J8EFuvXsRRci",
        "outputId": "dfa2a820-152c-454c-843e-1dc78fd889fe"
      },
      "source": [
        "# [a-z] one brackets corresponds to one character within the range 1 - z\n",
        "f = re.search('[a-z][a-z][a-z]', 'FOObar')\n",
        "print(f)"
      ],
      "execution_count": 28,
      "outputs": [
        {
          "output_type": "stream",
          "text": [
            "<re.Match object; span=(3, 6), match='bar'>\n"
          ],
          "name": "stdout"
        }
      ]
    },
    {
      "cell_type": "code",
      "metadata": {
        "colab": {
          "base_uri": "https://localhost:8080/"
        },
        "id": "XzBpXfPtRwAW",
        "outputId": "215712cf-51f9-4e77-fb78-7c78723a2e9e"
      },
      "source": [
        "# Complement\n",
        "print(re.search('[^0-9]', '12345foo').span())\n",
        "# Ignores the digits in string!"
      ],
      "execution_count": 30,
      "outputs": [
        {
          "output_type": "stream",
          "text": [
            "(5, 6)\n"
          ],
          "name": "stdout"
        }
      ]
    },
    {
      "cell_type": "code",
      "metadata": {
        "colab": {
          "base_uri": "https://localhost:8080/"
        },
        "id": "kfjuddQvUaH7",
        "outputId": "0197e203-36b7-40af-925d-8c552f748f26"
      },
      "source": [
        "# What if you want the character class to include a literal hyphen character? You can place it as the first or last character or escape it with a backslash (\\):\n",
        "\n",
        "print(re.search('[ab\\-c]', '123-456').span()) # checks abc and '-'"
      ],
      "execution_count": 32,
      "outputs": [
        {
          "output_type": "stream",
          "text": [
            "(3, 4)\n"
          ],
          "name": "stdout"
        }
      ]
    },
    {
      "cell_type": "code",
      "metadata": {
        "colab": {
          "base_uri": "https://localhost:8080/"
        },
        "id": "9mB4uHE5Ut1r",
        "outputId": "58bea542-a192-4901-f93e-57cfe012c569"
      },
      "source": [
        "print(re.search('[)*+|]', '123*456'))"
      ],
      "execution_count": 35,
      "outputs": [
        {
          "output_type": "stream",
          "text": [
            "<re.Match object; span=(3, 4), match='*'>\n"
          ],
          "name": "stdout"
        }
      ]
    },
    {
      "cell_type": "code",
      "metadata": {
        "colab": {
          "base_uri": "https://localhost:8080/"
        },
        "id": "6_mZPHcuVHjS",
        "outputId": "e19b558b-80b8-48fe-af69-877d90b46773"
      },
      "source": [
        "#  \\w is essentially shorthand for [a-zA-Z0-9_]:\n",
        "#  \\W is opposite\n",
        "\n",
        "print(re.search('[a-zA-Z0-9_]', '#(.a$@&'))"
      ],
      "execution_count": 36,
      "outputs": [
        {
          "output_type": "stream",
          "text": [
            "<re.Match object; span=(3, 4), match='a'>\n"
          ],
          "name": "stdout"
        }
      ]
    },
    {
      "cell_type": "code",
      "metadata": {
        "colab": {
          "base_uri": "https://localhost:8080/"
        },
        "id": "bJ6ef63JWQZW",
        "outputId": "d571f5dd-63f8-4cbd-b82b-fcb2584d1b41"
      },
      "source": [
        "# \\d matches any decimal digit character. \\D is the opposite. It matches any character that isn’t a decimal digit:\n",
        "print(re.search('\\d', 'abc4def'))"
      ],
      "execution_count": 37,
      "outputs": [
        {
          "output_type": "stream",
          "text": [
            "<re.Match object; span=(3, 4), match='4'>\n"
          ],
          "name": "stdout"
        }
      ]
    },
    {
      "cell_type": "code",
      "metadata": {
        "colab": {
          "base_uri": "https://localhost:8080/"
        },
        "id": "YTj0OquEWcos",
        "outputId": "f4a05179-84b0-4a30-8011-37c86097960c"
      },
      "source": [
        "#\\s matches any whitespace character:\n",
        "#\\S is the opposite of \\s. It matches any character that isn’t whitespace:£ \n",
        "print(re.search('\\S', '  \\n foo  \\n  '))"
      ],
      "execution_count": 38,
      "outputs": [
        {
          "output_type": "stream",
          "text": [
            "<re.Match object; span=(4, 5), match='f'>\n"
          ],
          "name": "stdout"
        }
      ]
    },
    {
      "cell_type": "code",
      "metadata": {
        "colab": {
          "base_uri": "https://localhost:8080/"
        },
        "id": "mbQe5X_sW8S5",
        "outputId": "7ae5e977-e5e9-4646-fc96-1914d3e0e3c3"
      },
      "source": [
        "print(re.search('[\\d\\w\\s][\\d\\w\\s][\\d\\w\\s]', '-a3 -- -'))"
      ],
      "execution_count": 40,
      "outputs": [
        {
          "output_type": "stream",
          "text": [
            "<re.Match object; span=(1, 4), match='a3 '>\n"
          ],
          "name": "stdout"
        }
      ]
    },
    {
      "cell_type": "code",
      "metadata": {
        "colab": {
          "base_uri": "https://localhost:8080/"
        },
        "id": "WL7F9vpNXZnt",
        "outputId": "4ab72c69-d879-41d3-f0a1-7d18fceb3ccf"
      },
      "source": [
        "# back slash \\ can change meaning of meta characters\n",
        "print(re.search('.', 'foo.bar')) # since . can match anything\n",
        "print(re.search('\\.', 'foo.bar'))"
      ],
      "execution_count": 42,
      "outputs": [
        {
          "output_type": "stream",
          "text": [
            "<re.Match object; span=(0, 1), match='f'>\n",
            "<re.Match object; span=(3, 4), match='.'>\n"
          ],
          "name": "stdout"
        }
      ]
    },
    {
      "cell_type": "code",
      "metadata": {
        "colab": {
          "base_uri": "https://localhost:8080/"
        },
        "id": "sOfu7jLLXyHI",
        "outputId": "e3fd90df-9c0c-4a91-f55e-37eb14619d16"
      },
      "source": [
        "# How to find \\ itself in a string. use '\\\\\\\\' or r'\\\\'\n",
        "re.search('\\\\\\\\', 'foo\\ppppprint')\n",
        "print(re.search(r'\\\\', s))"
      ],
      "execution_count": 45,
      "outputs": [
        {
          "output_type": "stream",
          "text": [
            "None\n"
          ],
          "name": "stdout"
        }
      ]
    },
    {
      "cell_type": "code",
      "metadata": {
        "colab": {
          "base_uri": "https://localhost:8080/"
        },
        "id": "UfA0zvEHYfZO",
        "outputId": "49ed2736-87fb-4d8b-aea6-1baf07568316"
      },
      "source": [
        "# ^ or \\A means the anchor match must be at start of string. $ \\Z means end of string match\n",
        "print(re.search('^foo', 'foobar'))\n",
        "print(re.search('^foo', 'barfoo'))"
      ],
      "execution_count": 47,
      "outputs": [
        {
          "output_type": "stream",
          "text": [
            "<re.Match object; span=(0, 3), match='foo'>\n",
            "None\n"
          ],
          "name": "stdout"
        }
      ]
    },
    {
      "cell_type": "code",
      "metadata": {
        "colab": {
          "base_uri": "https://localhost:8080/"
        },
        "id": "9iFWPy_VY6mr",
        "outputId": "1cc1789a-84bf-45b2-8f3a-67bc775a065c"
      },
      "source": [
        "# $ (but not \\Z) also matches just before a single newline at the end of the search string:\n",
        "print(re.search('bar$', 'foobar\\n'))"
      ],
      "execution_count": 48,
      "outputs": [
        {
          "output_type": "stream",
          "text": [
            "<re.Match object; span=(3, 6), match='bar'>\n"
          ],
          "name": "stdout"
        }
      ]
    },
    {
      "cell_type": "code",
      "metadata": {
        "colab": {
          "base_uri": "https://localhost:8080/"
        },
        "id": "AuIio-UZZMAp",
        "outputId": "389253b6-025b-4a9e-cfe6-ebf433ca2439"
      },
      "source": [
        "# Using the \\b anchor on both ends of the <regex> will cause it to match when it’s present in the search string as a whole word:\n",
        "print(re.search(r'\\bbar\\b', 'foo bar baz'))"
      ],
      "execution_count": 49,
      "outputs": [
        {
          "output_type": "stream",
          "text": [
            "<re.Match object; span=(4, 7), match='bar'>\n"
          ],
          "name": "stdout"
        }
      ]
    },
    {
      "cell_type": "code",
      "metadata": {
        "id": "qxPFJHYUab9o"
      },
      "source": [
        "# * + very important"
      ],
      "execution_count": null,
      "outputs": []
    },
    {
      "cell_type": "code",
      "metadata": {
        "colab": {
          "base_uri": "https://localhost:8080/"
        },
        "id": "VL8D4UbYafZ5",
        "outputId": "84d9c50e-20c6-400e-ecbd-25aa2dbf1784"
      },
      "source": [
        "print(re.search('<.+>', '%<foo> <bar> <baz>%'))\n",
        "# . matxhes anything, and + matches many . s preceding +"
      ],
      "execution_count": 50,
      "outputs": [
        {
          "output_type": "stream",
          "text": [
            "<re.Match object; span=(1, 18), match='<foo> <bar> <baz>'>\n"
          ],
          "name": "stdout"
        }
      ]
    },
    {
      "cell_type": "markdown",
      "metadata": {
        "id": "Bj-pFbBYa2ly"
      },
      "source": [
        "https://realpython.com/regex-python/"
      ]
    }
  ]
}