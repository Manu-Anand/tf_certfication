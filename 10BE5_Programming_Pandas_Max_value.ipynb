{
  "nbformat": 4,
  "nbformat_minor": 0,
  "metadata": {
    "colab": {
      "name": "10BE5_Programming_Pandas_Max_value.ipynb",
      "provenance": [],
      "collapsed_sections": [],
      "authorship_tag": "ABX9TyMUpwdw9Ek3kCPqfNRmkWRC",
      "include_colab_link": true
    },
    "kernelspec": {
      "name": "python3",
      "display_name": "Python 3"
    }
  },
  "cells": [
    {
      "cell_type": "markdown",
      "metadata": {
        "id": "view-in-github",
        "colab_type": "text"
      },
      "source": [
        "<a href=\"https://colab.research.google.com/github/Manu-Anand/tf_certfication/blob/master/10BE5_Programming_Pandas_Max_value.ipynb\" target=\"_parent\"><img src=\"https://colab.research.google.com/assets/colab-badge.svg\" alt=\"Open In Colab\"/></a>"
      ]
    },
    {
      "cell_type": "code",
      "metadata": {
        "id": "WWVTnL3QY0YX",
        "colab_type": "code",
        "colab": {
          "base_uri": "https://localhost:8080/",
          "height": 51
        },
        "outputId": "23754a33-ae40-4414-b019-bcad42d7f63c"
      },
      "source": [
        "x = int(\"a5\", 16)\n",
        "print(x)\n",
        "\n",
        "y = 0xa5\n",
        "print(y)"
      ],
      "execution_count": 1,
      "outputs": [
        {
          "output_type": "stream",
          "text": [
            "165\n",
            "165\n"
          ],
          "name": "stdout"
        }
      ]
    },
    {
      "cell_type": "code",
      "metadata": {
        "id": "AgEx3z-7eM6X",
        "colab_type": "code",
        "colab": {
          "base_uri": "https://localhost:8080/",
          "height": 561
        },
        "outputId": "38726914-5dcb-4b2b-8c1d-58e78d67371a"
      },
      "source": [
        "import decimal\n",
        "import pandas as pd\n",
        "import numpy as np\n",
        "import math\n",
        "\n",
        "def useNumpy(df):\n",
        "  # Since the dataframe has empty string ('') within it, numerical max can not be found. \n",
        "  # First repace it with NaN\n",
        "  df.replace(r'^\\s*$', np.nan, regex=True, inplace=True)\n",
        "  # The output shows the empty string replaced with NaN\n",
        "  print('\\nPrints dataframe with empty string replaced with NaN\\n\\n',df)\n",
        "  # Now to print the max of first column, use numpy nanmax function that ignores NaN in the column\n",
        "  # And uses only numeric values\n",
        "  print('\\n   Printing max values:\\n')\n",
        "  print('\\n   Max of 2017  :  ',np.nanmax(df['2017'].values))\n",
        "  # Second Column max\n",
        "  print('\\n   Max of 2018  :  ', np.nanmax(df['2018'].values))\n",
        "  # The max of two columns in the Dataframe\n",
        "  print('\\n   Max of 2017 and 2018 :  ', np.nanmax(df.values))\n",
        "def usePandas(df):\n",
        "  # decimal.Decimal('NaN')] is not supported and it will return False on df.isnull() method (see below)\n",
        "  # The correct usage if we want 'NaN' is 'float(decimal.Decimal('NaN'))' which returns a 'NaN' value.\n",
        "  # Note that below function did not return 'True' for NaN\n",
        "  # Therefore we can use numpy 'nanmax' function here\n",
        "  print('\\nPrints NaN is real NaN or not:\\n\\n', df.isnull())\n",
        "\n",
        "field = [\"A\",\"B\", \"C\", \"D\"]\n",
        "fieldData = [\n",
        "             [decimal.Decimal('6025'), decimal.Decimal('9135')],\n",
        "             [decimal.Decimal('302276'), decimal.Decimal('NaN')],\n",
        "             [decimal.Decimal('200'), decimal.Decimal('-3000')],\n",
        "             [decimal.Decimal('3500'), '']\n",
        "]\n",
        "df = pd.DataFrame(fieldData, index = [field], columns = ['2017', '2018'])\n",
        "# Prints the value if dataframe\n",
        "print(' Prints Original Data Frame:\\n\\n', df)\n",
        "usePandas(df)\n",
        "useNumpy(df)\n"
      ],
      "execution_count": 2,
      "outputs": [
        {
          "output_type": "stream",
          "text": [
            " Prints Original Data Frame:\n",
            "\n",
            "      2017   2018\n",
            "A    6025   9135\n",
            "B  302276    NaN\n",
            "C     200  -3000\n",
            "D    3500       \n",
            "\n",
            "Prints NaN is real NaN or not:\n",
            "\n",
            "     2017   2018\n",
            "A  False  False\n",
            "B  False  False\n",
            "C  False  False\n",
            "D  False  False\n",
            "\n",
            "Prints dataframe with empty string replaced with NaN\n",
            "\n",
            "      2017   2018\n",
            "A    6025   9135\n",
            "B  302276    NaN\n",
            "C     200  -3000\n",
            "D    3500    NaN\n",
            "\n",
            "   Printing max values:\n",
            "\n",
            "\n",
            "   Max of 2017  :   302276\n",
            "\n",
            "   Max of 2018  :   9135\n",
            "\n",
            "   Max of 2017 and 2018 :   302276\n"
          ],
          "name": "stdout"
        }
      ]
    }
  ]
}